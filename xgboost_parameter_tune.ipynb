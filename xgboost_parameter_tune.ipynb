{
 "cells": [
  {
   "cell_type": "code",
   "execution_count": 1,
   "metadata": {},
   "outputs": [],
   "source": [
    "# Version 2.0\n",
    "# Here we try xgboost (inspired by gradient boosting) and tune the parameters for higher auc score"
   ]
  },
  {
   "cell_type": "code",
   "execution_count": 1,
   "metadata": {},
   "outputs": [],
   "source": [
    "import csv\n",
    "import numpy as np\n",
    "import pandas as pd\n",
    "import matplotlib.pyplot as plt\n",
    "from sklearn import linear_model, metrics, ensemble\n",
    "from sklearn import model_selection\n",
    "from xgboost import XGBClassifier\n",
    "from sklearn.model_selection import KFold, GridSearchCV\n",
    "import os\n",
    "os.environ['KMP_DUPLICATE_LIB_OK']='True'"
   ]
  },
  {
   "cell_type": "code",
   "execution_count": 2,
   "metadata": {},
   "outputs": [],
   "source": [
    "def read_file(filename):\n",
    "    raw_data = pd.read_csv(filename)\n",
    "    data = raw_data.copy()\n",
    "    return data"
   ]
  },
  {
   "cell_type": "code",
   "execution_count": 3,
   "metadata": {},
   "outputs": [],
   "source": [
    "# read in train and test data -> X_train, y_train, X_test (pd.df)\n",
    "train_path = \"train_2008.csv\"\n",
    "test_path = \"test_2008.csv\"\n",
    "train_data = read_file(train_path)\n",
    "test_data = read_file(test_path)\n",
    "y_train = train_data['target']\n",
    "X_train = train_data.drop(['target', 'id'], axis=1)\n",
    "X_test = test_data\n",
    "X_test = X_test.drop('id', axis=1)"
   ]
  },
  {
   "cell_type": "code",
   "execution_count": 4,
   "metadata": {},
   "outputs": [],
   "source": [
    "def select_same_resp_feature(X):\n",
    "    same_resp_feature = []\n",
    "    for feature in X.columns:\n",
    "        if len(np.unique(X[feature])) == 1:\n",
    "            same_resp_feature.append(feature)\n",
    "    print(len(same_resp_feature))\n",
    "    return same_resp_feature\n",
    "\n",
    "def select_low_resp_feature(X):\n",
    "    resp_rate = X_train[X_train >= 0].count() / len(X_train)\n",
    "    low_resp_features = []\n",
    "    for cnt in resp_rate.items():\n",
    "        if cnt[1] < 0.01:\n",
    "            low_resp_features.append(cnt[0])\n",
    "    print(len(low_resp_features))\n",
    "    return low_resp_features"
   ]
  },
  {
   "cell_type": "code",
   "execution_count": 5,
   "metadata": {},
   "outputs": [
    {
     "name": "stdout",
     "output_type": "stream",
     "text": [
      "15\n"
     ]
    }
   ],
   "source": [
    "same_resp_feature = select_same_resp_feature(X_train)\n",
    "X_train.drop(same_resp_feature, axis=1, inplace=True)\n",
    "X_test.drop(same_resp_feature, axis=1, inplace=True)"
   ]
  },
  {
   "cell_type": "code",
   "execution_count": 8,
   "metadata": {},
   "outputs": [
    {
     "ename": "NameError",
     "evalue": "name 'resp_rate' is not defined",
     "output_type": "error",
     "traceback": [
      "\u001b[0;31m---------------------------------------------------------------------------\u001b[0m",
      "\u001b[0;31mNameError\u001b[0m                                 Traceback (most recent call last)",
      "\u001b[0;32m<ipython-input-8-fb3505f653f3>\u001b[0m in \u001b[0;36m<module>\u001b[0;34m\u001b[0m\n\u001b[0;32m----> 1\u001b[0;31m \u001b[0mlow_resp_features\u001b[0m \u001b[0;34m=\u001b[0m \u001b[0mselect_low_resp_feature\u001b[0m\u001b[0;34m(\u001b[0m\u001b[0mX_train\u001b[0m\u001b[0;34m)\u001b[0m\u001b[0;34m\u001b[0m\u001b[0;34m\u001b[0m\u001b[0m\n\u001b[0m\u001b[1;32m      2\u001b[0m \u001b[0mX_train\u001b[0m\u001b[0;34m.\u001b[0m\u001b[0mdrop\u001b[0m\u001b[0;34m(\u001b[0m\u001b[0mmostly_blank_feats\u001b[0m\u001b[0;34m,\u001b[0m \u001b[0maxis\u001b[0m\u001b[0;34m=\u001b[0m\u001b[0;36m1\u001b[0m\u001b[0;34m,\u001b[0m \u001b[0minplace\u001b[0m\u001b[0;34m=\u001b[0m\u001b[0;32mTrue\u001b[0m\u001b[0;34m)\u001b[0m\u001b[0;34m\u001b[0m\u001b[0;34m\u001b[0m\u001b[0m\n\u001b[1;32m      3\u001b[0m \u001b[0mX_test\u001b[0m\u001b[0;34m.\u001b[0m\u001b[0mdrop\u001b[0m\u001b[0;34m(\u001b[0m\u001b[0mmostly_blank_feats\u001b[0m\u001b[0;34m,\u001b[0m \u001b[0maxis\u001b[0m\u001b[0;34m=\u001b[0m\u001b[0;36m1\u001b[0m\u001b[0;34m,\u001b[0m \u001b[0minplace\u001b[0m\u001b[0;34m=\u001b[0m\u001b[0;32mTrue\u001b[0m\u001b[0;34m)\u001b[0m\u001b[0;34m\u001b[0m\u001b[0;34m\u001b[0m\u001b[0m\n",
      "\u001b[0;32m<ipython-input-6-d920bf6efe78>\u001b[0m in \u001b[0;36mselect_low_resp_feature\u001b[0;34m(X)\u001b[0m\n\u001b[1;32m      9\u001b[0m \u001b[0;32mdef\u001b[0m \u001b[0mselect_low_resp_feature\u001b[0m\u001b[0;34m(\u001b[0m\u001b[0mX\u001b[0m\u001b[0;34m)\u001b[0m\u001b[0;34m:\u001b[0m\u001b[0;34m\u001b[0m\u001b[0;34m\u001b[0m\u001b[0m\n\u001b[1;32m     10\u001b[0m     \u001b[0mlow_resp_features\u001b[0m \u001b[0;34m=\u001b[0m \u001b[0;34m[\u001b[0m\u001b[0;34m]\u001b[0m\u001b[0;34m\u001b[0m\u001b[0;34m\u001b[0m\u001b[0m\n\u001b[0;32m---> 11\u001b[0;31m     \u001b[0;32mfor\u001b[0m \u001b[0mcnt\u001b[0m \u001b[0;32min\u001b[0m \u001b[0mresp_rate\u001b[0m\u001b[0;34m.\u001b[0m\u001b[0mitems\u001b[0m\u001b[0;34m(\u001b[0m\u001b[0;34m)\u001b[0m\u001b[0;34m:\u001b[0m\u001b[0;34m\u001b[0m\u001b[0;34m\u001b[0m\u001b[0m\n\u001b[0m\u001b[1;32m     12\u001b[0m         \u001b[0;32mif\u001b[0m \u001b[0mcnt\u001b[0m\u001b[0;34m[\u001b[0m\u001b[0;36m1\u001b[0m\u001b[0;34m]\u001b[0m \u001b[0;34m<\u001b[0m \u001b[0;36m0.01\u001b[0m\u001b[0;34m:\u001b[0m\u001b[0;34m\u001b[0m\u001b[0;34m\u001b[0m\u001b[0m\n\u001b[1;32m     13\u001b[0m             \u001b[0mlow_resp_features\u001b[0m\u001b[0;34m.\u001b[0m\u001b[0mappend\u001b[0m\u001b[0;34m(\u001b[0m\u001b[0mcnt\u001b[0m\u001b[0;34m[\u001b[0m\u001b[0;36m0\u001b[0m\u001b[0;34m]\u001b[0m\u001b[0;34m)\u001b[0m\u001b[0;34m\u001b[0m\u001b[0;34m\u001b[0m\u001b[0m\n",
      "\u001b[0;31mNameError\u001b[0m: name 'resp_rate' is not defined"
     ]
    }
   ],
   "source": [
    "low_resp_features = select_low_resp_feature(X_train)\n",
    "X_train.drop(mostly_blank_feats, axis=1, inplace=True)\n",
    "X_test.drop(mostly_blank_feats, axis=1, inplace=True)"
   ]
  },
  {
   "cell_type": "code",
   "execution_count": null,
   "metadata": {},
   "outputs": [],
   "source": [
    "# recode the strongly unbalanced features to binary {1, 0}\n",
    "for i in X_train.columns:\n",
    "    cols = X_train[i]\n",
    "    freq_out = cols.value_counts(normalize=True)\n",
    "    if freq_out.max() > 0.95:\n",
    "        max_idx = freq_out.idxmax()\n",
    "        X_train[i] = X_train[i].apply(lambda x: 1 if (x == max_idx) else 0)\n",
    "        X_test[i] = X_test[i].apply(lambda x: 1 if (x == max_idx) else 0)"
   ]
  },
  {
   "cell_type": "code",
   "execution_count": 6,
   "metadata": {},
   "outputs": [],
   "source": [
    "# map all the -1 to NaN\n",
    "for feature in X_train.columns:\n",
    "    X_train[feature] = X_train[feature].apply(lambda x: np.NaN if (x == -1) else x)\n",
    "    X_test[feature] = X_test[feature].apply(lambda x: np.NaN if (x == -1) else x)"
   ]
  },
  {
   "cell_type": "code",
   "execution_count": null,
   "metadata": {},
   "outputs": [],
   "source": [
    "# categorical features (one-hot encoding)\n",
    "categorical_features = ['HUFINAL','GEREG', 'HUBUS', 'PTDTRACE', 'PENATVTY', 'PUABSOT', 'PEIO1COW', \n",
    "                        'HUFINAL', 'GESTCEN', 'GESTFIPS', 'PRCITSHP', 'PUDIS', 'PRABSREA', 'PRWKSTAT', 'HUPRSCNT', \n",
    "                        'PERRP', 'GTCBSAST', 'PRMJOCGR', 'HRHTYPE', ]\n",
    "train_dummy = pd.DataFrame()\n",
    "test_dummy = pd.DataFrame()\n",
    "for feature in categorical_features:\n",
    "    train_dummy_tmp = pd.get_dummies(X_train[feature], prefix=feature)\n",
    "    train_dummy = pd.concat([train_dummy, train_dummy_tmp], axis=1)\n",
    "    test_dummy_tmp = pd.get_dummies(X_test[feature], prefix=feature)\n",
    "    test_dummy = pd.concat([test_dummy, test_dummy_tmp], axis=1)\n",
    "X_train.drop(categorical_features, axis=1, inplace=True)\n",
    "X_test.drop(categorical_features, axis=1, inplace=True)\n",
    "X_train = pd.concat([X_train, train_dummy], axis=1)\n",
    "X_test = pd.concat([X_test, test_dummy], axis=1)"
   ]
  },
  {
   "cell_type": "code",
   "execution_count": null,
   "metadata": {},
   "outputs": [],
   "source": [
    "train_add_features = [f for f in X_test.columns if f not in X_train.columns]\n",
    "test_add_features = [f for f in X_train.columns if f not in X_test.columns]\n",
    "for feature in train_add_features:\n",
    "    X_train[feature] = 0\n",
    "for feature in test_add_features:\n",
    "    X_test[feature] = 0"
   ]
  },
  {
   "cell_type": "code",
   "execution_count": 7,
   "metadata": {},
   "outputs": [
    {
     "name": "stdout",
     "output_type": "stream",
     "text": [
      "(64667, 366)\n",
      "(64667,)\n",
      "(16000, 366)\n"
     ]
    }
   ],
   "source": [
    "X = X_train.values\n",
    "Y = y_train.values\n",
    "X_t = X_test.values\n",
    "print(X.shape)\n",
    "print(Y.shape)\n",
    "print(X_t.shape)"
   ]
  },
  {
   "cell_type": "code",
   "execution_count": 12,
   "metadata": {},
   "outputs": [],
   "source": [
    "def cross_validation(X, num_folds, clf):\n",
    "    kf = model_selection.KFold(n_splits=num_folds)\n",
    "    train_auc_ls = []\n",
    "    valid_auc_ls = []\n",
    "    for train_index, valid_index in kf.split(X):\n",
    "        print(\"1...\")\n",
    "        print(\"TRAIN:\", train_index, \"VALIDATION:\", valid_index)\n",
    "        X_train, X_valid = X[train_index], X[valid_index]\n",
    "        y_train, y_valid = Y[train_index], Y[valid_index]\n",
    "        clf.fit(X_train, y_train)\n",
    "        y_train_pred = clf.predict_proba(X_train)[:, 1]\n",
    "        y_valid_pred = clf.predict_proba(X_valid)[:, 1]\n",
    "        train_auc = metrics.roc_auc_score(y_train, y_train_pred)\n",
    "        valid_auc = metrics.roc_auc_score(y_valid, y_valid_pred)\n",
    "        train_auc_ls.append(train_auc)\n",
    "        valid_auc_ls.append(valid_auc)\n",
    "        print(\"2...\")\n",
    "    return train_auc_ls, valid_auc_ls, clf"
   ]
  },
  {
   "cell_type": "code",
   "execution_count": 13,
   "metadata": {},
   "outputs": [],
   "source": [
    "num_folds = 3\n",
    "number_of_estimators = range(20, 180, 50)\n",
    "gamma = [0.1, 0.3, 0.4]\n",
    "max_depth = [6, 8, 9, 10]\n",
    "subsample = [0.5, 0.7, 0.8, 1.0]"
   ]
  },
  {
   "cell_type": "code",
   "execution_count": 14,
   "metadata": {},
   "outputs": [
    {
     "name": "stdout",
     "output_type": "stream",
     "text": [
      "1...\n",
      "TRAIN: [21556 21557 21558 ... 64664 64665 64666] VALIDATION: [    0     1     2 ... 21553 21554 21555]\n",
      "2...\n",
      "1...\n",
      "TRAIN: [    0     1     2 ... 64664 64665 64666] VALIDATION: [21556 21557 21558 ... 43109 43110 43111]\n",
      "2...\n",
      "1...\n",
      "TRAIN: [    0     1     2 ... 43109 43110 43111] VALIDATION: [43112 43113 43114 ... 64664 64665 64666]\n",
      "2...\n",
      "1...\n",
      "TRAIN: [21556 21557 21558 ... 64664 64665 64666] VALIDATION: [    0     1     2 ... 21553 21554 21555]\n",
      "2...\n",
      "1...\n",
      "TRAIN: [    0     1     2 ... 64664 64665 64666] VALIDATION: [21556 21557 21558 ... 43109 43110 43111]\n",
      "2...\n",
      "1...\n",
      "TRAIN: [    0     1     2 ... 43109 43110 43111] VALIDATION: [43112 43113 43114 ... 64664 64665 64666]\n",
      "2...\n",
      "1...\n",
      "TRAIN: [21556 21557 21558 ... 64664 64665 64666] VALIDATION: [    0     1     2 ... 21553 21554 21555]\n",
      "2...\n",
      "1...\n",
      "TRAIN: [    0     1     2 ... 64664 64665 64666] VALIDATION: [21556 21557 21558 ... 43109 43110 43111]\n",
      "2...\n",
      "1...\n",
      "TRAIN: [    0     1     2 ... 43109 43110 43111] VALIDATION: [43112 43113 43114 ... 64664 64665 64666]\n",
      "2...\n",
      "1...\n",
      "TRAIN: [21556 21557 21558 ... 64664 64665 64666] VALIDATION: [    0     1     2 ... 21553 21554 21555]\n",
      "2...\n",
      "1...\n",
      "TRAIN: [    0     1     2 ... 64664 64665 64666] VALIDATION: [21556 21557 21558 ... 43109 43110 43111]\n",
      "2...\n",
      "1...\n",
      "TRAIN: [    0     1     2 ... 43109 43110 43111] VALIDATION: [43112 43113 43114 ... 64664 64665 64666]\n",
      "2...\n"
     ]
    }
   ],
   "source": [
    "valid_auc = []\n",
    "for n in number_of_estimators:\n",
    "    clf = XGBClassifier(n_estimators=n, colsample_bytree = 0.8, objective='binary:logistic') \n",
    "    train_auc_ls, valid_auc_ls, clf = cross_validation(X, num_folds, clf)\n",
    "    valid_auc.append(np.mean(valid_auc_ls))"
   ]
  },
  {
   "cell_type": "code",
   "execution_count": 15,
   "metadata": {},
   "outputs": [
    {
     "data": {
      "image/png": "[encoded data removed]",
      "text/plain": [
       "<Figure size 432x288 with 1 Axes>"
      ]
     },
     "metadata": {
      "needs_background": "light"
     },
     "output_type": "display_data"
    }
   ],
   "source": [
    "plt.figure()\n",
    "plt.plot(number_of_estimators, valid_auc)\n",
    "plt.xlabel(\"number of estimators\")\n",
    "plt.ylabel(\"test auc score\")\n",
    "plt.show()"
   ]
  },
  {
   "cell_type": "code",
   "execution_count": 17,
   "metadata": {},
   "outputs": [
    {
     "name": "stdout",
     "output_type": "stream",
     "text": [
      "1...\n",
      "TRAIN: [21556 21557 21558 ... 64664 64665 64666] VALIDATION: [    0     1     2 ... 21553 21554 21555]\n",
      "2...\n",
      "1...\n",
      "TRAIN: [    0     1     2 ... 64664 64665 64666] VALIDATION: [21556 21557 21558 ... 43109 43110 43111]\n",
      "2...\n",
      "1...\n",
      "TRAIN: [    0     1     2 ... 43109 43110 43111] VALIDATION: [43112 43113 43114 ... 64664 64665 64666]\n",
      "2...\n",
      "1...\n",
      "TRAIN: [21556 21557 21558 ... 64664 64665 64666] VALIDATION: [    0     1     2 ... 21553 21554 21555]\n",
      "2...\n",
      "1...\n",
      "TRAIN: [    0     1     2 ... 64664 64665 64666] VALIDATION: [21556 21557 21558 ... 43109 43110 43111]\n",
      "2...\n",
      "1...\n",
      "TRAIN: [    0     1     2 ... 43109 43110 43111] VALIDATION: [43112 43113 43114 ... 64664 64665 64666]\n",
      "2...\n",
      "1...\n",
      "TRAIN: [21556 21557 21558 ... 64664 64665 64666] VALIDATION: [    0     1     2 ... 21553 21554 21555]\n",
      "2...\n",
      "1...\n",
      "TRAIN: [    0     1     2 ... 64664 64665 64666] VALIDATION: [21556 21557 21558 ... 43109 43110 43111]\n",
      "2...\n",
      "1...\n",
      "TRAIN: [    0     1     2 ... 43109 43110 43111] VALIDATION: [43112 43113 43114 ... 64664 64665 64666]\n",
      "2...\n"
     ]
    }
   ],
   "source": [
    "valid_auc = []\n",
    "for g in gamma:\n",
    "    clf = XGBClassifier(n_estimators=150, gamma=g, colsample_bytree = 0.8, objective='binary:logistic') \n",
    "    train_auc_ls, valid_auc_ls, clf = cross_validation(X, num_folds, clf)\n",
    "    valid_auc.append(np.mean(valid_auc_ls))"
   ]
  },
  {
   "cell_type": "code",
   "execution_count": 18,
   "metadata": {},
   "outputs": [
    {
     "data": {
      "image/png": "[encoded data removed]",
      "text/plain": [
       "<Figure size 432x288 with 1 Axes>"
      ]
     },
     "metadata": {
      "needs_background": "light"
     },
     "output_type": "display_data"
    }
   ],
   "source": [
    "plt.figure()\n",
    "plt.plot(gamma, valid_auc)\n",
    "plt.xlabel(\"gamma\")\n",
    "plt.ylabel(\"test auc score\")\n",
    "plt.show()"
   ]
  },
  {
   "cell_type": "code",
   "execution_count": 19,
   "metadata": {},
   "outputs": [
    {
     "name": "stdout",
     "output_type": "stream",
     "text": [
      "1...\n",
      "TRAIN: [21556 21557 21558 ... 64664 64665 64666] VALIDATION: [    0     1     2 ... 21553 21554 21555]\n",
      "2...\n",
      "1...\n",
      "TRAIN: [    0     1     2 ... 64664 64665 64666] VALIDATION: [21556 21557 21558 ... 43109 43110 43111]\n",
      "2...\n",
      "1...\n",
      "TRAIN: [    0     1     2 ... 43109 43110 43111] VALIDATION: [43112 43113 43114 ... 64664 64665 64666]\n",
      "2...\n",
      "1...\n",
      "TRAIN: [21556 21557 21558 ... 64664 64665 64666] VALIDATION: [    0     1     2 ... 21553 21554 21555]\n",
      "2...\n",
      "1...\n",
      "TRAIN: [    0     1     2 ... 64664 64665 64666] VALIDATION: [21556 21557 21558 ... 43109 43110 43111]\n",
      "2...\n",
      "1...\n",
      "TRAIN: [    0     1     2 ... 43109 43110 43111] VALIDATION: [43112 43113 43114 ... 64664 64665 64666]\n",
      "2...\n",
      "1...\n",
      "TRAIN: [21556 21557 21558 ... 64664 64665 64666] VALIDATION: [    0     1     2 ... 21553 21554 21555]\n",
      "2...\n",
      "1...\n",
      "TRAIN: [    0     1     2 ... 64664 64665 64666] VALIDATION: [21556 21557 21558 ... 43109 43110 43111]\n",
      "2...\n",
      "1...\n",
      "TRAIN: [    0     1     2 ... 43109 43110 43111] VALIDATION: [43112 43113 43114 ... 64664 64665 64666]\n",
      "2...\n",
      "1...\n",
      "TRAIN: [21556 21557 21558 ... 64664 64665 64666] VALIDATION: [    0     1     2 ... 21553 21554 21555]\n",
      "2...\n",
      "1...\n",
      "TRAIN: [    0     1     2 ... 64664 64665 64666] VALIDATION: [21556 21557 21558 ... 43109 43110 43111]\n",
      "2...\n",
      "1...\n",
      "TRAIN: [    0     1     2 ... 43109 43110 43111] VALIDATION: [43112 43113 43114 ... 64664 64665 64666]\n",
      "2...\n"
     ]
    }
   ],
   "source": [
    "valid_auc = []\n",
    "for d in max_depth:\n",
    "    clf = XGBClassifier(n_estimators=150, gamma=0.1, max_depth=d, colsample_bytree = 0.8, objective='binary:logistic') \n",
    "    train_auc_ls, valid_auc_ls, clf = cross_validation(X, num_folds, clf)\n",
    "    valid_auc.append(np.mean(valid_auc_ls))"
   ]
  },
  {
   "cell_type": "code",
   "execution_count": 20,
   "metadata": {},
   "outputs": [
    {
     "data": {
      "image/png": "[encoded data removed]",
      "text/plain": [
       "<Figure size 432x288 with 1 Axes>"
      ]
     },
     "metadata": {
      "needs_background": "light"
     },
     "output_type": "display_data"
    }
   ],
   "source": [
    "plt.figure()\n",
    "plt.plot(max_depth, valid_auc)\n",
    "plt.xlabel(\"max depth\")\n",
    "plt.ylabel(\"test auc score\")\n",
    "plt.show()"
   ]
  },
  {
   "cell_type": "code",
   "execution_count": 22,
   "metadata": {},
   "outputs": [
    {
     "name": "stdout",
     "output_type": "stream",
     "text": [
      "1...\n",
      "TRAIN: [21556 21557 21558 ... 64664 64665 64666] VALIDATION: [    0     1     2 ... 21553 21554 21555]\n",
      "2...\n",
      "1...\n",
      "TRAIN: [    0     1     2 ... 64664 64665 64666] VALIDATION: [21556 21557 21558 ... 43109 43110 43111]\n",
      "2...\n",
      "1...\n",
      "TRAIN: [    0     1     2 ... 43109 43110 43111] VALIDATION: [43112 43113 43114 ... 64664 64665 64666]\n",
      "2...\n",
      "1...\n",
      "TRAIN: [21556 21557 21558 ... 64664 64665 64666] VALIDATION: [    0     1     2 ... 21553 21554 21555]\n",
      "2...\n",
      "1...\n",
      "TRAIN: [    0     1     2 ... 64664 64665 64666] VALIDATION: [21556 21557 21558 ... 43109 43110 43111]\n",
      "2...\n",
      "1...\n",
      "TRAIN: [    0     1     2 ... 43109 43110 43111] VALIDATION: [43112 43113 43114 ... 64664 64665 64666]\n",
      "2...\n",
      "1...\n",
      "TRAIN: [21556 21557 21558 ... 64664 64665 64666] VALIDATION: [    0     1     2 ... 21553 21554 21555]\n",
      "2...\n",
      "1...\n",
      "TRAIN: [    0     1     2 ... 64664 64665 64666] VALIDATION: [21556 21557 21558 ... 43109 43110 43111]\n",
      "2...\n",
      "1...\n",
      "TRAIN: [    0     1     2 ... 43109 43110 43111] VALIDATION: [43112 43113 43114 ... 64664 64665 64666]\n",
      "2...\n",
      "1...\n",
      "TRAIN: [21556 21557 21558 ... 64664 64665 64666] VALIDATION: [    0     1     2 ... 21553 21554 21555]\n",
      "2...\n",
      "1...\n",
      "TRAIN: [    0     1     2 ... 64664 64665 64666] VALIDATION: [21556 21557 21558 ... 43109 43110 43111]\n",
      "2...\n",
      "1...\n",
      "TRAIN: [    0     1     2 ... 43109 43110 43111] VALIDATION: [43112 43113 43114 ... 64664 64665 64666]\n",
      "2...\n"
     ]
    }
   ],
   "source": [
    "valid_auc = []\n",
    "for s in subsample:\n",
    "    clf = XGBClassifier(n_estimators=150, gamma=0.1, max_depth=6, subsample=s, colsample_bytree = 0.8, objective='binary:logistic') \n",
    "    train_auc_ls, valid_auc_ls, clf = cross_validation(X, num_folds, clf)\n",
    "    valid_auc.append(np.mean(valid_auc_ls))"
   ]
  },
  {
   "cell_type": "code",
   "execution_count": 23,
   "metadata": {},
   "outputs": [
    {
     "data": {
      "image/png": "[encoded data removed]",
      "text/plain": [
       "<Figure size 432x288 with 1 Axes>"
      ]
     },
     "metadata": {
      "needs_background": "light"
     },
     "output_type": "display_data"
    }
   ],
   "source": [
    "plt.figure()\n",
    "plt.plot(subsample, valid_auc)\n",
    "plt.xlabel(\"subsample\")\n",
    "plt.ylabel(\"test auc score\")\n",
    "plt.show()"
   ]
  },
  {
   "cell_type": "code",
   "execution_count": 24,
   "metadata": {},
   "outputs": [
    {
     "name": "stdout",
     "output_type": "stream",
     "text": [
      "1...\n",
      "TRAIN: [21556 21557 21558 ... 64664 64665 64666] VALIDATION: [    0     1     2 ... 21553 21554 21555]\n",
      "2...\n",
      "1...\n",
      "TRAIN: [    0     1     2 ... 64664 64665 64666] VALIDATION: [21556 21557 21558 ... 43109 43110 43111]\n",
      "2...\n",
      "1...\n",
      "TRAIN: [    0     1     2 ... 43109 43110 43111] VALIDATION: [43112 43113 43114 ... 64664 64665 64666]\n",
      "2...\n",
      "1...\n",
      "TRAIN: [21556 21557 21558 ... 64664 64665 64666] VALIDATION: [    0     1     2 ... 21553 21554 21555]\n",
      "2...\n",
      "1...\n",
      "TRAIN: [    0     1     2 ... 64664 64665 64666] VALIDATION: [21556 21557 21558 ... 43109 43110 43111]\n",
      "2...\n",
      "1...\n",
      "TRAIN: [    0     1     2 ... 43109 43110 43111] VALIDATION: [43112 43113 43114 ... 64664 64665 64666]\n",
      "2...\n",
      "1...\n",
      "TRAIN: [21556 21557 21558 ... 64664 64665 64666] VALIDATION: [    0     1     2 ... 21553 21554 21555]\n",
      "2...\n",
      "1...\n",
      "TRAIN: [    0     1     2 ... 64664 64665 64666] VALIDATION: [21556 21557 21558 ... 43109 43110 43111]\n",
      "2...\n",
      "1...\n",
      "TRAIN: [    0     1     2 ... 43109 43110 43111] VALIDATION: [43112 43113 43114 ... 64664 64665 64666]\n",
      "2...\n",
      "1...\n",
      "TRAIN: [21556 21557 21558 ... 64664 64665 64666] VALIDATION: [    0     1     2 ... 21553 21554 21555]\n",
      "2...\n",
      "1...\n",
      "TRAIN: [    0     1     2 ... 64664 64665 64666] VALIDATION: [21556 21557 21558 ... 43109 43110 43111]\n",
      "2...\n",
      "1...\n",
      "TRAIN: [    0     1     2 ... 43109 43110 43111] VALIDATION: [43112 43113 43114 ... 64664 64665 64666]\n",
      "2...\n"
     ]
    }
   ],
   "source": [
    "valid_auc = []\n",
    "max_depth = [6, 8, 9, 10]\n",
    "for d in max_depth:\n",
    "    clf = XGBClassifier(n_estimators=150, gamma=0.3, max_depth=d, subsample=0.8, colsample_bytree = 0.8, objective='binary:logistic') \n",
    "    train_auc_ls, valid_auc_ls, clf = cross_validation(X, num_folds, clf)\n",
    "    valid_auc.append(np.mean(valid_auc_ls))"
   ]
  },
  {
   "cell_type": "code",
   "execution_count": 25,
   "metadata": {},
   "outputs": [
    {
     "data": {
      "image/png": "[encoded data removed]",
      "text/plain": [
       "<Figure size 432x288 with 1 Axes>"
      ]
     },
     "metadata": {
      "needs_background": "light"
     },
     "output_type": "display_data"
    }
   ],
   "source": [
    "plt.figure()\n",
    "plt.plot(subsample, valid_auc)\n",
    "plt.xlabel(\"subsample\")\n",
    "plt.ylabel(\"test auc score\")\n",
    "plt.show()"
   ]
  },
  {
   "cell_type": "code",
   "execution_count": null,
   "metadata": {},
   "outputs": [],
   "source": []
  }
 ],
 "metadata": {
  "kernelspec": {
   "display_name": "Python 3",
   "language": "python",
   "name": "python3"
  },
  "language_info": {
   "codemirror_mode": {
    "name": "ipython",
    "version": 3
   },
   "file_extension": ".py",
   "mimetype": "text/x-python",
   "name": "python",
   "nbconvert_exporter": "python",
   "pygments_lexer": "ipython3",
   "version": "3.6.8"
  }
 },
 "nbformat": 4,
 "nbformat_minor": 2
}
