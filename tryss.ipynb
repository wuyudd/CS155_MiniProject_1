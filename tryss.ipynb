{
 "cells": [
  {
   "cell_type": "code",
   "execution_count": 1,
   "metadata": {},
   "outputs": [],
   "source": [
    "import csv\n",
    "import numpy as np\n",
    "import pandas as pd\n",
    "import matplotlib.pyplot as plt\n",
    "from sklearn import linear_model, metrics, ensemble\n",
    "from sklearn import model_selection\n",
    "from xgboost import XGBClassifier\n",
    "from sklearn.model_selection import KFold, GridSearchCV\n",
    "import os\n",
    "\n",
    "os.environ['KMP_DUPLICATE_LIB_OK']='True'"
   ]
  },
  {
   "cell_type": "code",
   "execution_count": 2,
   "metadata": {},
   "outputs": [],
   "source": [
    "def read_file(filename):\n",
    "    raw_data = pd.read_csv(filename)\n",
    "    data = raw_data.copy()\n",
    "    return data"
   ]
  },
  {
   "cell_type": "code",
   "execution_count": 3,
   "metadata": {},
   "outputs": [],
   "source": [
    "# read in train and test data -> X_train, y_train, X_test (pd.df)\n",
    "train_path = \"train_2008.csv\"\n",
    "test_path = \"test_2008.csv\"\n",
    "train_data = read_file(train_path)\n",
    "test_data = read_file(test_path)\n",
    "\n",
    "y_train = train_data['target']\n",
    "X_train = train_data.drop('target', axis=1)\n",
    "X_train = X_train.drop('id', axis=1)\n",
    "\n",
    "X_test = test_data\n",
    "X_test = X_test.drop('id', axis=1)"
   ]
  },
  {
   "cell_type": "code",
   "execution_count": 4,
   "metadata": {},
   "outputs": [
    {
     "name": "stdout",
     "output_type": "stream",
     "text": [
      "15\n",
      "['HRMONTH', 'HRYEAR4', 'HUTYPEA', 'HUTYPC', 'HRINTSTA', 'PEAFNOW', 'PRPERTYP', 'PULKDK4', 'PULKDK5', 'PULKDK6', 'PULKPS4', 'PULKPS5', 'PULKPS6', 'HXPHONEO', 'PXAGE']\n"
     ]
    }
   ],
   "source": [
    "# drop same_resp feature\n",
    "def select_same_resp_feature(X_train):\n",
    "    same_resp_feature = []\n",
    "    for feature in X_train.columns:\n",
    "        if len(np.unique(X_train[feature])) == 1:\n",
    "            same_resp_feature.append(feature)\n",
    "    return same_resp_feature\n",
    "\n",
    "same_resp_feature = select_same_resp_feature(X_train)\n",
    "X_train.drop(same_resp_feature, axis=1, inplace=True)\n",
    "X_test.drop(same_resp_feature, axis=1, inplace=True)\n",
    "print(len(same_resp_feature))\n",
    "print(same_resp_feature)"
   ]
  },
  {
   "cell_type": "code",
   "execution_count": 5,
   "metadata": {},
   "outputs": [
    {
     "name": "stdout",
     "output_type": "stream",
     "text": [
      "58\n"
     ]
    }
   ],
   "source": [
    "# drop low resp features\n",
    "response_rates = X_train[X_train >= 0].count() / len(X_train)\n",
    "mostly_blank_feats = []\n",
    "for itm in response_rates.items():\n",
    "    if itm[1] < 0.01:\n",
    "#         X_train[feature] = X_train[feature].apply(lambda x: np.NaN if (x == -1) else x)\n",
    "#         X_test[feature] = X_test[feature].apply(lambda x: np.NaN if (x == -1) else x)\n",
    "        mostly_blank_feats.append(itm[0])\n",
    "print(len(mostly_blank_feats))\n",
    "\n",
    "X_train.drop(mostly_blank_feats, axis=1, inplace=True)\n",
    "X_test.drop(mostly_blank_feats, axis=1, inplace=True)"
   ]
  },
  {
   "cell_type": "code",
   "execution_count": 6,
   "metadata": {},
   "outputs": [
    {
     "name": "stdout",
     "output_type": "stream",
     "text": [
      "<class 'pandas.core.series.Series'>\n",
      "<class 'pandas.core.series.Series'>\n",
      "<class 'pandas.core.series.Series'>\n",
      "<class 'pandas.core.series.Series'>\n",
      "<class 'pandas.core.series.Series'>\n",
      "<class 'pandas.core.series.Series'>\n",
      "<class 'pandas.core.series.Series'>\n",
      "<class 'pandas.core.series.Series'>\n",
      "<class 'pandas.core.series.Series'>\n",
      "<class 'pandas.core.series.Series'>\n",
      "<class 'pandas.core.series.Series'>\n",
      "<class 'pandas.core.series.Series'>\n",
      "<class 'pandas.core.series.Series'>\n",
      "<class 'pandas.core.series.Series'>\n",
      "<class 'pandas.core.series.Series'>\n",
      "<class 'pandas.core.series.Series'>\n",
      "<class 'pandas.core.series.Series'>\n",
      "<class 'pandas.core.series.Series'>\n",
      "<class 'pandas.core.series.Series'>\n",
      "<class 'pandas.core.series.Series'>\n",
      "<class 'pandas.core.series.Series'>\n",
      "<class 'pandas.core.series.Series'>\n",
      "<class 'pandas.core.series.Series'>\n",
      "<class 'pandas.core.series.Series'>\n",
      "<class 'pandas.core.series.Series'>\n",
      "<class 'pandas.core.series.Series'>\n",
      "<class 'pandas.core.series.Series'>\n",
      "<class 'pandas.core.series.Series'>\n",
      "<class 'pandas.core.series.Series'>\n",
      "<class 'pandas.core.series.Series'>\n",
      "<class 'pandas.core.series.Series'>\n",
      "<class 'pandas.core.series.Series'>\n",
      "<class 'pandas.core.series.Series'>\n",
      "<class 'pandas.core.series.Series'>\n",
      "<class 'pandas.core.series.Series'>\n",
      "<class 'pandas.core.series.Series'>\n",
      "<class 'pandas.core.series.Series'>\n",
      "<class 'pandas.core.series.Series'>\n",
      "<class 'pandas.core.series.Series'>\n",
      "<class 'pandas.core.series.Series'>\n",
      "<class 'pandas.core.series.Series'>\n",
      "<class 'pandas.core.series.Series'>\n",
      "<class 'pandas.core.series.Series'>\n",
      "<class 'pandas.core.series.Series'>\n",
      "<class 'pandas.core.series.Series'>\n",
      "<class 'pandas.core.series.Series'>\n",
      "<class 'pandas.core.series.Series'>\n",
      "<class 'pandas.core.series.Series'>\n",
      "<class 'pandas.core.series.Series'>\n",
      "<class 'pandas.core.series.Series'>\n",
      "<class 'pandas.core.series.Series'>\n",
      "<class 'pandas.core.series.Series'>\n",
      "<class 'pandas.core.series.Series'>\n",
      "<class 'pandas.core.series.Series'>\n",
      "<class 'pandas.core.series.Series'>\n",
      "<class 'pandas.core.series.Series'>\n",
      "<class 'pandas.core.series.Series'>\n",
      "<class 'pandas.core.series.Series'>\n",
      "<class 'pandas.core.series.Series'>\n",
      "<class 'pandas.core.series.Series'>\n",
      "<class 'pandas.core.series.Series'>\n",
      "<class 'pandas.core.series.Series'>\n",
      "<class 'pandas.core.series.Series'>\n",
      "<class 'pandas.core.series.Series'>\n",
      "<class 'pandas.core.series.Series'>\n",
      "<class 'pandas.core.series.Series'>\n",
      "<class 'pandas.core.series.Series'>\n",
      "<class 'pandas.core.series.Series'>\n",
      "<class 'pandas.core.series.Series'>\n",
      "<class 'pandas.core.series.Series'>\n",
      "<class 'pandas.core.series.Series'>\n",
      "<class 'pandas.core.series.Series'>\n",
      "<class 'pandas.core.series.Series'>\n",
      "<class 'pandas.core.series.Series'>\n",
      "<class 'pandas.core.series.Series'>\n",
      "<class 'pandas.core.series.Series'>\n",
      "<class 'pandas.core.series.Series'>\n",
      "<class 'pandas.core.series.Series'>\n",
      "<class 'pandas.core.series.Series'>\n",
      "<class 'pandas.core.series.Series'>\n",
      "<class 'pandas.core.series.Series'>\n",
      "<class 'pandas.core.series.Series'>\n",
      "<class 'pandas.core.series.Series'>\n",
      "<class 'pandas.core.series.Series'>\n",
      "<class 'pandas.core.series.Series'>\n",
      "<class 'pandas.core.series.Series'>\n",
      "<class 'pandas.core.series.Series'>\n",
      "<class 'pandas.core.series.Series'>\n",
      "<class 'pandas.core.series.Series'>\n",
      "<class 'pandas.core.series.Series'>\n",
      "<class 'pandas.core.series.Series'>\n",
      "<class 'pandas.core.series.Series'>\n",
      "<class 'pandas.core.series.Series'>\n",
      "<class 'pandas.core.series.Series'>\n",
      "<class 'pandas.core.series.Series'>\n",
      "<class 'pandas.core.series.Series'>\n",
      "<class 'pandas.core.series.Series'>\n",
      "<class 'pandas.core.series.Series'>\n",
      "<class 'pandas.core.series.Series'>\n",
      "<class 'pandas.core.series.Series'>\n",
      "<class 'pandas.core.series.Series'>\n",
      "<class 'pandas.core.series.Series'>\n",
      "<class 'pandas.core.series.Series'>\n",
      "<class 'pandas.core.series.Series'>\n",
      "<class 'pandas.core.series.Series'>\n",
      "<class 'pandas.core.series.Series'>\n",
      "<class 'pandas.core.series.Series'>\n",
      "<class 'pandas.core.series.Series'>\n",
      "<class 'pandas.core.series.Series'>\n",
      "<class 'pandas.core.series.Series'>\n",
      "<class 'pandas.core.series.Series'>\n",
      "<class 'pandas.core.series.Series'>\n",
      "<class 'pandas.core.series.Series'>\n",
      "<class 'pandas.core.series.Series'>\n",
      "<class 'pandas.core.series.Series'>\n",
      "<class 'pandas.core.series.Series'>\n",
      "<class 'pandas.core.series.Series'>\n",
      "<class 'pandas.core.series.Series'>\n",
      "<class 'pandas.core.series.Series'>\n",
      "<class 'pandas.core.series.Series'>\n",
      "<class 'pandas.core.series.Series'>\n",
      "<class 'pandas.core.series.Series'>\n",
      "<class 'pandas.core.series.Series'>\n",
      "<class 'pandas.core.series.Series'>\n",
      "<class 'pandas.core.series.Series'>\n",
      "<class 'pandas.core.series.Series'>\n",
      "<class 'pandas.core.series.Series'>\n",
      "<class 'pandas.core.series.Series'>\n",
      "<class 'pandas.core.series.Series'>\n",
      "<class 'pandas.core.series.Series'>\n",
      "<class 'pandas.core.series.Series'>\n",
      "<class 'pandas.core.series.Series'>\n",
      "<class 'pandas.core.series.Series'>\n",
      "<class 'pandas.core.series.Series'>\n",
      "<class 'pandas.core.series.Series'>\n",
      "<class 'pandas.core.series.Series'>\n",
      "<class 'pandas.core.series.Series'>\n",
      "<class 'pandas.core.series.Series'>\n",
      "<class 'pandas.core.series.Series'>\n",
      "<class 'pandas.core.series.Series'>\n",
      "<class 'pandas.core.series.Series'>\n",
      "<class 'pandas.core.series.Series'>\n",
      "<class 'pandas.core.series.Series'>\n",
      "<class 'pandas.core.series.Series'>\n",
      "<class 'pandas.core.series.Series'>\n",
      "<class 'pandas.core.series.Series'>\n",
      "<class 'pandas.core.series.Series'>\n",
      "<class 'pandas.core.series.Series'>\n",
      "<class 'pandas.core.series.Series'>\n",
      "<class 'pandas.core.series.Series'>\n",
      "<class 'pandas.core.series.Series'>\n",
      "<class 'pandas.core.series.Series'>\n",
      "<class 'pandas.core.series.Series'>\n",
      "<class 'pandas.core.series.Series'>\n",
      "<class 'pandas.core.series.Series'>\n",
      "<class 'pandas.core.series.Series'>\n",
      "<class 'pandas.core.series.Series'>\n",
      "<class 'pandas.core.series.Series'>\n",
      "<class 'pandas.core.series.Series'>\n",
      "<class 'pandas.core.series.Series'>\n",
      "<class 'pandas.core.series.Series'>\n",
      "<class 'pandas.core.series.Series'>\n",
      "<class 'pandas.core.series.Series'>\n",
      "<class 'pandas.core.series.Series'>\n",
      "<class 'pandas.core.series.Series'>\n",
      "<class 'pandas.core.series.Series'>\n",
      "<class 'pandas.core.series.Series'>\n",
      "<class 'pandas.core.series.Series'>\n",
      "<class 'pandas.core.series.Series'>\n",
      "<class 'pandas.core.series.Series'>\n",
      "<class 'pandas.core.series.Series'>\n",
      "<class 'pandas.core.series.Series'>\n",
      "<class 'pandas.core.series.Series'>\n",
      "<class 'pandas.core.series.Series'>\n",
      "<class 'pandas.core.series.Series'>\n",
      "<class 'pandas.core.series.Series'>\n",
      "<class 'pandas.core.series.Series'>\n",
      "<class 'pandas.core.series.Series'>\n",
      "<class 'pandas.core.series.Series'>\n",
      "<class 'pandas.core.series.Series'>\n",
      "<class 'pandas.core.series.Series'>\n",
      "<class 'pandas.core.series.Series'>\n",
      "<class 'pandas.core.series.Series'>\n",
      "<class 'pandas.core.series.Series'>\n",
      "<class 'pandas.core.series.Series'>\n",
      "<class 'pandas.core.series.Series'>\n",
      "<class 'pandas.core.series.Series'>\n",
      "<class 'pandas.core.series.Series'>\n",
      "<class 'pandas.core.series.Series'>\n",
      "<class 'pandas.core.series.Series'>\n",
      "<class 'pandas.core.series.Series'>\n",
      "<class 'pandas.core.series.Series'>\n",
      "<class 'pandas.core.series.Series'>\n",
      "<class 'pandas.core.series.Series'>\n",
      "<class 'pandas.core.series.Series'>\n",
      "<class 'pandas.core.series.Series'>\n",
      "<class 'pandas.core.series.Series'>\n",
      "<class 'pandas.core.series.Series'>\n",
      "<class 'pandas.core.series.Series'>\n",
      "<class 'pandas.core.series.Series'>\n",
      "<class 'pandas.core.series.Series'>\n",
      "<class 'pandas.core.series.Series'>\n",
      "<class 'pandas.core.series.Series'>\n",
      "<class 'pandas.core.series.Series'>\n",
      "<class 'pandas.core.series.Series'>\n",
      "<class 'pandas.core.series.Series'>\n",
      "<class 'pandas.core.series.Series'>\n",
      "<class 'pandas.core.series.Series'>\n",
      "<class 'pandas.core.series.Series'>\n",
      "<class 'pandas.core.series.Series'>\n",
      "<class 'pandas.core.series.Series'>\n",
      "<class 'pandas.core.series.Series'>\n",
      "<class 'pandas.core.series.Series'>\n",
      "<class 'pandas.core.series.Series'>\n",
      "<class 'pandas.core.series.Series'>\n",
      "<class 'pandas.core.series.Series'>\n",
      "<class 'pandas.core.series.Series'>\n",
      "<class 'pandas.core.series.Series'>\n",
      "<class 'pandas.core.series.Series'>\n",
      "<class 'pandas.core.series.Series'>\n",
      "<class 'pandas.core.series.Series'>\n",
      "<class 'pandas.core.series.Series'>\n",
      "<class 'pandas.core.series.Series'>\n",
      "<class 'pandas.core.series.Series'>\n",
      "<class 'pandas.core.series.Series'>\n",
      "<class 'pandas.core.series.Series'>\n",
      "<class 'pandas.core.series.Series'>\n",
      "<class 'pandas.core.series.Series'>\n",
      "<class 'pandas.core.series.Series'>\n",
      "<class 'pandas.core.series.Series'>\n",
      "<class 'pandas.core.series.Series'>\n"
     ]
    },
    {
     "name": "stdout",
     "output_type": "stream",
     "text": [
      "<class 'pandas.core.series.Series'>\n",
      "<class 'pandas.core.series.Series'>\n",
      "<class 'pandas.core.series.Series'>\n",
      "<class 'pandas.core.series.Series'>\n",
      "<class 'pandas.core.series.Series'>\n",
      "<class 'pandas.core.series.Series'>\n",
      "<class 'pandas.core.series.Series'>\n",
      "<class 'pandas.core.series.Series'>\n",
      "<class 'pandas.core.series.Series'>\n",
      "<class 'pandas.core.series.Series'>\n",
      "<class 'pandas.core.series.Series'>\n",
      "<class 'pandas.core.series.Series'>\n",
      "<class 'pandas.core.series.Series'>\n",
      "<class 'pandas.core.series.Series'>\n",
      "<class 'pandas.core.series.Series'>\n",
      "<class 'pandas.core.series.Series'>\n",
      "<class 'pandas.core.series.Series'>\n",
      "<class 'pandas.core.series.Series'>\n",
      "<class 'pandas.core.series.Series'>\n",
      "<class 'pandas.core.series.Series'>\n",
      "<class 'pandas.core.series.Series'>\n",
      "<class 'pandas.core.series.Series'>\n",
      "<class 'pandas.core.series.Series'>\n",
      "<class 'pandas.core.series.Series'>\n",
      "<class 'pandas.core.series.Series'>\n",
      "<class 'pandas.core.series.Series'>\n",
      "<class 'pandas.core.series.Series'>\n",
      "<class 'pandas.core.series.Series'>\n",
      "<class 'pandas.core.series.Series'>\n",
      "<class 'pandas.core.series.Series'>\n",
      "<class 'pandas.core.series.Series'>\n",
      "<class 'pandas.core.series.Series'>\n",
      "<class 'pandas.core.series.Series'>\n",
      "<class 'pandas.core.series.Series'>\n",
      "<class 'pandas.core.series.Series'>\n",
      "<class 'pandas.core.series.Series'>\n",
      "<class 'pandas.core.series.Series'>\n",
      "<class 'pandas.core.series.Series'>\n",
      "<class 'pandas.core.series.Series'>\n",
      "<class 'pandas.core.series.Series'>\n",
      "<class 'pandas.core.series.Series'>\n",
      "<class 'pandas.core.series.Series'>\n",
      "<class 'pandas.core.series.Series'>\n",
      "<class 'pandas.core.series.Series'>\n",
      "<class 'pandas.core.series.Series'>\n",
      "<class 'pandas.core.series.Series'>\n",
      "<class 'pandas.core.series.Series'>\n",
      "<class 'pandas.core.series.Series'>\n",
      "<class 'pandas.core.series.Series'>\n",
      "<class 'pandas.core.series.Series'>\n",
      "<class 'pandas.core.series.Series'>\n",
      "<class 'pandas.core.series.Series'>\n",
      "<class 'pandas.core.series.Series'>\n",
      "<class 'pandas.core.series.Series'>\n",
      "<class 'pandas.core.series.Series'>\n",
      "<class 'pandas.core.series.Series'>\n",
      "<class 'pandas.core.series.Series'>\n",
      "<class 'pandas.core.series.Series'>\n",
      "<class 'pandas.core.series.Series'>\n",
      "<class 'pandas.core.series.Series'>\n",
      "<class 'pandas.core.series.Series'>\n",
      "<class 'pandas.core.series.Series'>\n",
      "<class 'pandas.core.series.Series'>\n",
      "<class 'pandas.core.series.Series'>\n",
      "<class 'pandas.core.series.Series'>\n",
      "<class 'pandas.core.series.Series'>\n",
      "<class 'pandas.core.series.Series'>\n",
      "<class 'pandas.core.series.Series'>\n",
      "<class 'pandas.core.series.Series'>\n",
      "<class 'pandas.core.series.Series'>\n",
      "<class 'pandas.core.series.Series'>\n",
      "<class 'pandas.core.series.Series'>\n",
      "<class 'pandas.core.series.Series'>\n",
      "<class 'pandas.core.series.Series'>\n",
      "<class 'pandas.core.series.Series'>\n",
      "<class 'pandas.core.series.Series'>\n",
      "<class 'pandas.core.series.Series'>\n",
      "<class 'pandas.core.series.Series'>\n"
     ]
    }
   ],
   "source": [
    "# encode\n",
    "# s = X_train['HUFINAL']\n",
    "# out = s.value_counts(normalize=True)\n",
    "# print(out)\n",
    "# print(type(out))\n",
    "# out.max() > 0.9\n",
    "# maxx = out.idxmax()\n",
    "# X_train['HUFINAL']= X_train['HUFINAL'].apply(lambda x: 1 if (x == maxx) else 0)\n",
    "# print(X_train['HUFINAL'].values[:10])\n",
    "\n",
    "# recode\n",
    "for i in X_train.columns:\n",
    "    cols = X_train[i]\n",
    "    print(type(cols))\n",
    "    #print(cols)\n",
    "    freq_out = cols.value_counts(normalize=True)\n",
    "    if freq_out.max() > 0.95:\n",
    "        max_idx = freq_out.idxmax()\n",
    "        X_train[i] = X_train[i].apply(lambda x: 1 if (x == max_idx) else 0)\n",
    "        X_test[i] = X_test[i].apply(lambda x: 1 if (x == max_idx) else 0)"
   ]
  },
  {
   "cell_type": "code",
   "execution_count": null,
   "metadata": {},
   "outputs": [],
   "source": [
    "print(X_train.values.shape)"
   ]
  },
  {
   "cell_type": "code",
   "execution_count": 9,
   "metadata": {},
   "outputs": [
    {
     "name": "stdout",
     "output_type": "stream",
     "text": [
      "[[16000     1   201     1     1     1     1     1     1    16]\n",
      " [16001     1   201     1     2     1     1     1     1     6]\n",
      " [16002     1     1     1     1     1     1     1     1    15]\n",
      " [16003     2     1     1     1     1     1     1     1    13]\n",
      " [16004     2   201     1     1     1     1     1     1    -3]\n",
      " [16005     2   201     1     1     0     1     1     1    13]\n",
      " [16006     2   201     1     1     1     1     1     1    -3]\n",
      " [16007     1   201     1     2     1     0     0     1     7]\n",
      " [16008     1   201     1     3     0     1     1     1     1]\n",
      " [16009     1   201     1     1     1     1     1     1    13]]\n"
     ]
    }
   ],
   "source": [
    "print(X_train.values[:10, :10])"
   ]
  },
  {
   "cell_type": "code",
   "execution_count": null,
   "metadata": {},
   "outputs": [],
   "source": []
  },
  {
   "cell_type": "code",
   "execution_count": 5,
   "metadata": {},
   "outputs": [],
   "source": [
    "# negative -> -1\n",
    "for feature in X_train.columns:\n",
    "    X_train[feature] = X_train[feature].apply(lambda x: np.NaN if (x == -1) else x)\n",
    "    X_test[feature] = X_test[feature].apply(lambda x: np.NaN if (x == -1) else x)"
   ]
  },
  {
   "cell_type": "code",
   "execution_count": 6,
   "metadata": {},
   "outputs": [],
   "source": [
    "# encode some features\n",
    "categorical_features = ['HUFINAL','HEHOUSUT','GEREG', 'HUBUS', 'PTDTRACE', 'PENATVTY', 'PUABSOT', 'PEIO1COW', \n",
    "                     'HUFINAL', 'GESTCEN', 'GESTFIPS', #'PEIO1ICD', 'PEIO2ICD', \n",
    "                     'PRCITSHP', 'PUDIS', 'PRABSREA', 'PRWKSTAT', 'HUPRSCNT', \n",
    "                     'PERRP', 'GTCBSAST', 'PRMJOCGR', 'HRHTYPE', ]\n",
    "# Now dummy these features\n",
    "train_dummy_df = pd.DataFrame()\n",
    "test_dummy_df = pd.DataFrame()\n",
    "\n",
    "new_cat = []\n",
    "for feature in categorical_features:\n",
    "    if feature in X_train.columns:\n",
    "        new_cat.append(feature)\n",
    "        train_dummy_vars = pd.get_dummies(X_train[feature], prefix=feature)\n",
    "        train_dummy_df = pd.concat([train_dummy_df, train_dummy_vars], axis=1)\n",
    "\n",
    "        test_dummy_vars = pd.get_dummies(X_test[feature], prefix=feature)\n",
    "        test_dummy_df = pd.concat([test_dummy_df, test_dummy_vars], axis=1)\n",
    "# Drop the original categorical variables\n",
    "X_train.drop(new_cat, axis=1, inplace=True)\n",
    "X_test.drop(new_cat, axis=1, inplace=True)\n",
    "# Add dummy vars to the data\n",
    "X_train = pd.concat([X_train, train_dummy_df], axis=1)\n",
    "X_test = pd.concat([X_test, test_dummy_df], axis=1)\n",
    "\n",
    "# train_test \n",
    "feats_to_add_to_train = [f for f in X_test.columns if f not in X_train.columns]\n",
    "feats_to_add_to_test = [f for f in X_train.columns if f not in X_test.columns]\n",
    "for feat in feats_to_add_to_train:\n",
    "    X_train[feat] = np.nan\n",
    "for feat in feats_to_add_to_test:\n",
    "    X_test[feat] = np.nan"
   ]
  },
  {
   "cell_type": "code",
   "execution_count": 6,
   "metadata": {},
   "outputs": [
    {
     "name": "stdout",
     "output_type": "stream",
     "text": [
      "(64667, 366)\n",
      "(64667,)\n",
      "(16000, 366)\n"
     ]
    }
   ],
   "source": [
    "    \n",
    "X = X_train.values\n",
    "Y = y_train.values\n",
    "X_t = X_test.values\n",
    "print(X.shape)\n",
    "print(Y.shape)\n",
    "print(X_t.shape)"
   ]
  },
  {
   "cell_type": "code",
   "execution_count": 30,
   "metadata": {},
   "outputs": [
    {
     "name": "stdout",
     "output_type": "stream",
     "text": [
      "[[1.6000e+04 1.0000e+00 2.0100e+02 0.0000e+00 1.0000e+00 1.0000e+00\n",
      "  1.0000e+00        nan 1.0000e+00 1.6000e+01]\n",
      " [1.6001e+04 1.0000e+00 2.0100e+02 0.0000e+00 2.0000e+00 1.0000e+00\n",
      "  1.0000e+00        nan 1.0000e+00 6.0000e+00]\n",
      " [1.6002e+04 1.0000e+00 1.0000e+00 0.0000e+00 1.0000e+00 1.0000e+00\n",
      "  1.0000e+00        nan 1.0000e+00 1.5000e+01]\n",
      " [1.6003e+04 2.0000e+00 1.0000e+00 0.0000e+00 1.0000e+00 1.0000e+00\n",
      "  1.0000e+00        nan 1.0000e+00 1.3000e+01]\n",
      " [1.6004e+04 2.0000e+00 2.0100e+02 0.0000e+00 1.0000e+00 1.0000e+00\n",
      "  1.0000e+00        nan 1.0000e+00        nan]\n",
      " [1.6005e+04 2.0000e+00 2.0100e+02 0.0000e+00 1.0000e+00 6.0000e+00\n",
      "  1.0000e+00        nan 1.0000e+00 1.3000e+01]\n",
      " [1.6006e+04 2.0000e+00 2.0100e+02 0.0000e+00 1.0000e+00 1.0000e+00\n",
      "  1.0000e+00        nan 1.0000e+00        nan]\n",
      " [1.6007e+04 1.0000e+00 2.0100e+02 0.0000e+00 2.0000e+00 1.0000e+00\n",
      "  2.0000e+00 2.0000e+00 1.0000e+00 7.0000e+00]\n",
      " [1.6008e+04 1.0000e+00 2.0100e+02 0.0000e+00 3.0000e+00 5.0000e+00\n",
      "  1.0000e+00        nan 1.0000e+00 1.0000e+00]\n",
      " [1.6009e+04 1.0000e+00 2.0100e+02 0.0000e+00 1.0000e+00 1.0000e+00\n",
      "  1.0000e+00        nan 1.0000e+00 1.3000e+01]]\n"
     ]
    }
   ],
   "source": [
    "print(X[:10, :10])"
   ]
  },
  {
   "cell_type": "code",
   "execution_count": 8,
   "metadata": {},
   "outputs": [
    {
     "name": "stdout",
     "output_type": "stream",
     "text": [
      "train auc:  0.9012511564813253\n",
      "test auc:  0.7906480822504987\n"
     ]
    }
   ],
   "source": [
    "test_size = 0.3\n",
    "X_train, X_test, y_train, y_test = model_selection.train_test_split(X, Y, test_size=test_size, random_state=10)\n",
    "clf_xgb = XGBClassifier(max_depth=9, gamma=0.25, subsample=0.7, min_child_weight=2, n_estimators=50, objective='binary:logistic') \n",
    "clf_xgb.fit(X_train, y_train)\n",
    "y_train_pred = clf_xgb.predict_proba(X_train)[:, 1]\n",
    "y_test_pred = clf_xgb.predict_proba(X_test)[:, 1]\n",
    "\n",
    "train_auc = metrics.roc_auc_score(y_train, y_train_pred)\n",
    "print(\"train auc: \", train_auc)\n",
    "test_auc = metrics.roc_auc_score(y_test, y_test_pred)\n",
    "print(\"test auc: \", test_auc)"
   ]
  },
  {
   "cell_type": "code",
   "execution_count": 11,
   "metadata": {},
   "outputs": [],
   "source": [
    "y_test_pred_prob = clf_xgb.predict_proba(X_t)[:, 1]\n",
    "pd.DataFrame(y_test_pred_prob).to_csv(\"xgb_test_po2008.csv\")"
   ]
  },
  {
   "cell_type": "code",
   "execution_count": null,
   "metadata": {},
   "outputs": [],
   "source": [
    "# def cross_validation(num_folds, X_train_arr, clf):\n",
    "#     kf = model_selection.KFold(n_splits=num_folds)\n",
    "#     auc = []\n",
    "#     for train_index, test_index in kf.split(X_train_arr):\n",
    "#         print(\"1---\")\n",
    "#         X_train_cv, X_test_cv = X_train_arr[train_index], X_train_arr[test_index]\n",
    "#         y_train_cv, y_test_cv = y_train_arr[train_index], y_train_arr[test_index]\n",
    "#         clf.fit(X_train_cv,y_train_cv)\n",
    "#         y_pred_prob = clf.predict_proba(X_test_cv)[:, 1]\n",
    "#         auc.append(metrics.roc_auc_score(y_test_cv, y_pred_prob))\n",
    "#         print(\"2---\")\n",
    "#     return auc"
   ]
  },
  {
   "cell_type": "code",
   "execution_count": 7,
   "metadata": {},
   "outputs": [
    {
     "name": "stdout",
     "output_type": "stream",
     "text": [
      "TRAIN: [16167 16168 16169 ... 64664 64665 64666] TEST: [    0     1     2 ... 16164 16165 16166]\n",
      "train auc:  0.9105435504991333\n",
      "test auc:  0.7811150764551923\n",
      "TRAIN: [    0     1     2 ... 64664 64665 64666] TEST: [16167 16168 16169 ... 32331 32332 32333]\n",
      "train auc:  0.9113135473798598\n",
      "test auc:  0.7781658839485525\n",
      "TRAIN: [    0     1     2 ... 64664 64665 64666] TEST: [32334 32335 32336 ... 48498 48499 48500]\n",
      "train auc:  0.9146942468814164\n",
      "test auc:  0.7854101715814161\n",
      "TRAIN: [    0     1     2 ... 48498 48499 48500] TEST: [48501 48502 48503 ... 64664 64665 64666]\n",
      "train auc:  0.9123738900267131\n",
      "test auc:  0.7778787695298433\n",
      "48501\n",
      "16166\n"
     ]
    }
   ],
   "source": [
    "# 1\n",
    "kf =KFold(n_splits=4)\n",
    "for train_index, test_index in kf.split(X):\n",
    "    print(\"TRAIN:\", train_index, \"TEST:\", test_index)\n",
    "    X_train, X_test = X[train_index], X[test_index]\n",
    "    y_train, y_test = Y[train_index], Y[test_index]\n",
    "    clf_xgb = XGBClassifier(max_depth=9, gamma=0.25, subsample=0.7, min_child_weight=2, n_estimators=50, objective='binary:logistic', scale_pos_weight=3) \n",
    "    clf_xgb.fit(X_train, y_train)\n",
    "    y_train_pred = clf_xgb.predict_proba(X_train)[:, 1]\n",
    "    y_test_pred = clf_xgb.predict_proba(X_test)[:, 1]\n",
    "\n",
    "    train_auc = metrics.roc_auc_score(y_train, y_train_pred)\n",
    "    print(\"train auc: \", train_auc)\n",
    "    test_auc = metrics.roc_auc_score(y_test, y_test_pred)\n",
    "    print(\"test auc: \", test_auc)\n",
    "print(len(X_train))\n",
    "print(len(X_test))"
   ]
  },
  {
   "cell_type": "code",
   "execution_count": 9,
   "metadata": {},
   "outputs": [
    {
     "name": "stdout",
     "output_type": "stream",
     "text": [
      "TRAIN: [16167 16168 16169 ... 64664 64665 64666] TEST: [    0     1     2 ... 16164 16165 16166]\n",
      "train auc:  0.909734721805481\n",
      "test auc:  0.7863631796376646\n",
      "TRAIN: [    0     1     2 ... 64664 64665 64666] TEST: [16167 16168 16169 ... 32331 32332 32333]\n",
      "train auc:  0.9090972792165517\n",
      "test auc:  0.7808630791380613\n",
      "TRAIN: [    0     1     2 ... 64664 64665 64666] TEST: [32334 32335 32336 ... 48498 48499 48500]\n",
      "train auc:  0.9089077116642704\n",
      "test auc:  0.7893985086199315\n",
      "TRAIN: [    0     1     2 ... 48498 48499 48500] TEST: [48501 48502 48503 ... 64664 64665 64666]\n",
      "train auc:  0.9129444580402374\n",
      "test auc:  0.7806461717589306\n",
      "48501\n",
      "16166\n"
     ]
    }
   ],
   "source": [
    "# 1 no id\n",
    "kf =KFold(n_splits=4)\n",
    "for train_index, test_index in kf.split(X):\n",
    "    print(\"TRAIN:\", train_index, \"TEST:\", test_index)\n",
    "    X_train, X_test = X[train_index], X[test_index]\n",
    "    y_train, y_test = Y[train_index], Y[test_index]\n",
    "    clf_xgb = XGBClassifier(max_depth=9, gamma=0.25, subsample=0.7, min_child_weight=2, n_estimators=50, objective='binary:logistic', scale_pos_weight=3) \n",
    "    clf_xgb.fit(X_train, y_train)\n",
    "    y_train_pred = clf_xgb.predict_proba(X_train)[:, 1]\n",
    "    y_test_pred = clf_xgb.predict_proba(X_test)[:, 1]\n",
    "\n",
    "    train_auc = metrics.roc_auc_score(y_train, y_train_pred)\n",
    "    print(\"train auc: \", train_auc)\n",
    "    test_auc = metrics.roc_auc_score(y_test, y_test_pred)\n",
    "    print(\"test auc: \", test_auc)\n",
    "print(len(X_train))\n",
    "print(len(X_test))"
   ]
  },
  {
   "cell_type": "code",
   "execution_count": 8,
   "metadata": {},
   "outputs": [
    {
     "name": "stdout",
     "output_type": "stream",
     "text": [
      "TRAIN: [16167 16168 16169 ... 64664 64665 64666] TEST: [    0     1     2 ... 16164 16165 16166]\n",
      "train auc:  0.9035597315654079\n",
      "test auc:  0.7850145914019138\n",
      "TRAIN: [    0     1     2 ... 64664 64665 64666] TEST: [16167 16168 16169 ... 32331 32332 32333]\n",
      "train auc:  0.9047741891234785\n",
      "test auc:  0.7809926933625121\n",
      "TRAIN: [    0     1     2 ... 64664 64665 64666] TEST: [32334 32335 32336 ... 48498 48499 48500]\n",
      "train auc:  0.9067856950917265\n",
      "test auc:  0.789128436590709\n",
      "TRAIN: [    0     1     2 ... 48498 48499 48500] TEST: [48501 48502 48503 ... 64664 64665 64666]\n",
      "train auc:  0.908394412438909\n",
      "test auc:  0.7826559379667513\n",
      "48501\n",
      "16166\n"
     ]
    }
   ],
   "source": [
    "# 2\n",
    "kf =KFold(n_splits=4)\n",
    "for train_index, test_index in kf.split(X):\n",
    "    print(\"TRAIN:\", train_index, \"TEST:\", test_index)\n",
    "    X_train, X_test = X[train_index], X[test_index]\n",
    "    y_train, y_test = Y[train_index], Y[test_index]\n",
    "    clf_xgb = XGBClassifier(max_depth=9, gamma=0.3, subsample=0.8, min_child_weight=2, n_estimators=50, colsample_bytree = 0.8, objective='binary:logistic') \n",
    "    clf_xgb.fit(X_train, y_train)\n",
    "    y_train_pred = clf_xgb.predict_proba(X_train)[:, 1]\n",
    "    y_test_pred = clf_xgb.predict_proba(X_test)[:, 1]\n",
    "\n",
    "    train_auc = metrics.roc_auc_score(y_train, y_train_pred)\n",
    "    print(\"train auc: \", train_auc)\n",
    "    test_auc = metrics.roc_auc_score(y_test, y_test_pred)\n",
    "    print(\"test auc: \", test_auc)\n",
    "print(len(X_train))\n",
    "print(len(X_test))"
   ]
  },
  {
   "cell_type": "code",
   "execution_count": 9,
   "metadata": {},
   "outputs": [
    {
     "name": "stdout",
     "output_type": "stream",
     "text": [
      "TRAIN: [16167 16168 16169 ... 64664 64665 64666] TEST: [    0     1     2 ... 16164 16165 16166]\n",
      "train auc:  0.927976692420224\n",
      "test auc:  0.7865624805836302\n",
      "TRAIN: [    0     1     2 ... 64664 64665 64666] TEST: [16167 16168 16169 ... 32331 32332 32333]\n",
      "train auc:  0.9299278019067931\n",
      "test auc:  0.785509121523048\n",
      "TRAIN: [    0     1     2 ... 64664 64665 64666] TEST: [32334 32335 32336 ... 48498 48499 48500]\n",
      "train auc:  0.9330839373409316\n",
      "test auc:  0.7936869523973387\n",
      "TRAIN: [    0     1     2 ... 48498 48499 48500] TEST: [48501 48502 48503 ... 64664 64665 64666]\n",
      "train auc:  0.9325190206537745\n",
      "test auc:  0.7844562077969776\n",
      "48501\n",
      "16166\n"
     ]
    }
   ],
   "source": [
    "# 3\n",
    "kf =KFold(n_splits=4)\n",
    "for train_index, test_index in kf.split(X):\n",
    "    print(\"TRAIN:\", train_index, \"TEST:\", test_index)\n",
    "    X_train, X_test = X[train_index], X[test_index]\n",
    "    y_train, y_test = Y[train_index], Y[test_index]\n",
    "    clf_xgb = XGBClassifier(max_depth=9, gamma=0.3, subsample=0.8, min_child_weight=3, n_estimators=100, objective='binary:logistic') \n",
    "    clf_xgb.fit(X_train, y_train)\n",
    "    y_train_pred = clf_xgb.predict_proba(X_train)[:, 1]\n",
    "    y_test_pred = clf_xgb.predict_proba(X_test)[:, 1]\n",
    "\n",
    "    train_auc = metrics.roc_auc_score(y_train, y_train_pred)\n",
    "    print(\"train auc: \", train_auc)\n",
    "    test_auc = metrics.roc_auc_score(y_test, y_test_pred)\n",
    "    print(\"test auc: \", test_auc)\n",
    "print(len(X_train))\n",
    "print(len(X_test))"
   ]
  },
  {
   "cell_type": "code",
   "execution_count": 10,
   "metadata": {},
   "outputs": [
    {
     "name": "stdout",
     "output_type": "stream",
     "text": [
      "TRAIN: [16167 16168 16169 ... 64664 64665 64666] TEST: [    0     1     2 ... 16164 16165 16166]\n",
      "train auc:  0.9270746279799869\n",
      "test auc:  0.7903525660836146\n",
      "TRAIN: [    0     1     2 ... 64664 64665 64666] TEST: [16167 16168 16169 ... 32331 32332 32333]\n",
      "train auc:  0.928477150420264\n",
      "test auc:  0.7841588565682915\n",
      "TRAIN: [    0     1     2 ... 64664 64665 64666] TEST: [32334 32335 32336 ... 48498 48499 48500]\n",
      "train auc:  0.9287558459798065\n",
      "test auc:  0.7941368320882467\n",
      "TRAIN: [    0     1     2 ... 48498 48499 48500] TEST: [48501 48502 48503 ... 64664 64665 64666]\n",
      "train auc:  0.9293163019484469\n",
      "test auc:  0.7857186376779245\n",
      "48501\n",
      "16166\n"
     ]
    }
   ],
   "source": [
    "# 3 no id\n",
    "kf =KFold(n_splits=4)\n",
    "for train_index, test_index in kf.split(X):\n",
    "    print(\"TRAIN:\", train_index, \"TEST:\", test_index)\n",
    "    X_train, X_test = X[train_index], X[test_index]\n",
    "    y_train, y_test = Y[train_index], Y[test_index]\n",
    "    clf_xgb = XGBClassifier(max_depth=9, gamma=0.3, subsample=0.8, min_child_weight=3, n_estimators=100, objective='binary:logistic') \n",
    "    clf_xgb.fit(X_train, y_train)\n",
    "    y_train_pred = clf_xgb.predict_proba(X_train)[:, 1]\n",
    "    y_test_pred = clf_xgb.predict_proba(X_test)[:, 1]\n",
    "\n",
    "    train_auc = metrics.roc_auc_score(y_train, y_train_pred)\n",
    "    print(\"train auc: \", train_auc)\n",
    "    test_auc = metrics.roc_auc_score(y_test, y_test_pred)\n",
    "    print(\"test auc: \", test_auc)\n",
    "print(len(X_train))\n",
    "print(len(X_test))"
   ]
  },
  {
   "cell_type": "code",
   "execution_count": 15,
   "metadata": {},
   "outputs": [],
   "source": [
    "clf_xgb = XGBClassifier(max_depth=9, gamma=0.3, subsample=0.8, min_child_weight=3, n_estimators=100, objective='binary:logistic') \n",
    "clf_xgb.fit(X, Y)\n",
    "y_test_pred_prob = clf_xgb.predict_proba(X_t)[:, 1]\n",
    "pd.DataFrame(y_test_pred_prob).to_csv(\"xgboost_143_2.csv\")"
   ]
  },
  {
   "cell_type": "code",
   "execution_count": 11,
   "metadata": {},
   "outputs": [
    {
     "name": "stdout",
     "output_type": "stream",
     "text": [
      "TRAIN: [16167 16168 16169 ... 64664 64665 64666] TEST: [    0     1     2 ... 16164 16165 16166]\n",
      "train auc:  0.9316039932331532\n",
      "test auc:  0.7861549694095094\n",
      "TRAIN: [    0     1     2 ... 64664 64665 64666] TEST: [16167 16168 16169 ... 32331 32332 32333]\n",
      "train auc:  0.9286497485035727\n",
      "test auc:  0.7829393208210548\n",
      "TRAIN: [    0     1     2 ... 64664 64665 64666] TEST: [32334 32335 32336 ... 48498 48499 48500]\n",
      "train auc:  0.9314564411820098\n",
      "test auc:  0.7909384409632179\n",
      "TRAIN: [    0     1     2 ... 48498 48499 48500] TEST: [48501 48502 48503 ... 64664 64665 64666]\n",
      "train auc:  0.9327205934048538\n",
      "test auc:  0.785250431973734\n",
      "48501\n",
      "16166\n"
     ]
    }
   ],
   "source": [
    "# 4\n",
    "kf =KFold(n_splits=4)\n",
    "for train_index, test_index in kf.split(X):\n",
    "    print(\"TRAIN:\", train_index, \"TEST:\", test_index)\n",
    "    X_train, X_test = X[train_index], X[test_index]\n",
    "    y_train, y_test = Y[train_index], Y[test_index]\n",
    "    clf_xgb = XGBClassifier(max_depth=9, gamma=0.3, subsample=0.8, min_child_weight=3, n_estimators=100, colsample_bytree = 0.8, objective='binary:logistic') \n",
    "    clf_xgb.fit(X_train, y_train)\n",
    "    y_train_pred = clf_xgb.predict_proba(X_train)[:, 1]\n",
    "    y_test_pred = clf_xgb.predict_proba(X_test)[:, 1]\n",
    "\n",
    "    train_auc = metrics.roc_auc_score(y_train, y_train_pred)\n",
    "    print(\"train auc: \", train_auc)\n",
    "    test_auc = metrics.roc_auc_score(y_test, y_test_pred)\n",
    "    print(\"test auc: \", test_auc)\n",
    "print(len(X_train))\n",
    "print(len(X_test))"
   ]
  },
  {
   "cell_type": "code",
   "execution_count": 12,
   "metadata": {},
   "outputs": [
    {
     "name": "stdout",
     "output_type": "stream",
     "text": [
      "TRAIN: [16167 16168 16169 ... 64664 64665 64666] TEST: [    0     1     2 ... 16164 16165 16166]\n",
      "train auc:  0.9160847349442498\n",
      "test auc:  0.7904776600912051\n",
      "TRAIN: [    0     1     2 ... 64664 64665 64666] TEST: [16167 16168 16169 ... 32331 32332 32333]\n",
      "train auc:  0.9141984175754483\n",
      "test auc:  0.787550737355693\n",
      "TRAIN: [    0     1     2 ... 64664 64665 64666] TEST: [32334 32335 32336 ... 48498 48499 48500]\n",
      "train auc:  0.9136903351115206\n",
      "test auc:  0.7937981579379064\n",
      "TRAIN: [    0     1     2 ... 48498 48499 48500] TEST: [48501 48502 48503 ... 64664 64665 64666]\n",
      "train auc:  0.9140249323685181\n",
      "test auc:  0.7885771244282236\n",
      "48501\n",
      "16166\n"
     ]
    }
   ],
   "source": [
    "# 5 no id\n",
    "kf =KFold(n_splits=4)\n",
    "for train_index, test_index in kf.split(X):\n",
    "    print(\"TRAIN:\", train_index, \"TEST:\", test_index)\n",
    "    X_train, X_test = X[train_index], X[test_index]\n",
    "    y_train, y_test = Y[train_index], Y[test_index]\n",
    "    clf_xgb = XGBClassifier(max_depth=8, gamma=0.3, subsample=0.8, min_child_weight=4, n_estimators=150, colsample_bytree = 0.8, objective='binary:logistic') \n",
    "    clf_xgb.fit(X_train, y_train)\n",
    "    y_train_pred = clf_xgb.predict_proba(X_train)[:, 1]\n",
    "    y_test_pred = clf_xgb.predict_proba(X_test)[:, 1]\n",
    "\n",
    "    train_auc = metrics.roc_auc_score(y_train, y_train_pred)\n",
    "    print(\"train auc: \", train_auc)\n",
    "    test_auc = metrics.roc_auc_score(y_test, y_test_pred)\n",
    "    print(\"test auc: \", test_auc)\n",
    "print(len(X_train))\n",
    "print(len(X_test))"
   ]
  },
  {
   "cell_type": "code",
   "execution_count": 13,
   "metadata": {},
   "outputs": [],
   "source": [
    "clf_xgb = XGBClassifier(max_depth=8, gamma=0.3, subsample=0.8, min_child_weight=4, n_estimators=150, colsample_bytree = 0.8, objective='binary:logistic') \n",
    "clf_xgb.fit(X, Y)\n",
    "y_test_pred_prob = clf_xgb.predict_proba(X_t)[:, 1]\n",
    "pd.DataFrame(y_test_pred_prob).to_csv(\"xgboost_155.csv\")"
   ]
  },
  {
   "cell_type": "code",
   "execution_count": 18,
   "metadata": {},
   "outputs": [
    {
     "name": "stdout",
     "output_type": "stream",
     "text": [
      "(82820, 366)\n"
     ]
    }
   ],
   "source": [
    "test12_path = \"test_2012.csv\"\n",
    "test12_data = read_file(test12_path)\n",
    "X_test12 = test12_data\n",
    "X_test12 = X_test12.drop('id', axis=1)\n",
    "X_test12.drop(same_resp_feature, axis=1, inplace=True)\n",
    "for feature in X_test12.columns:\n",
    "    X_test12[feature] = X_test12[feature].apply(lambda x: np.NaN if (x == -1) else x)\n",
    "X_t12 = X_test12.values\n",
    "print(X_t12.shape)\n",
    "y_test12_pred_prob = clf_xgb.predict_proba(X_t12)[:, 1]\n",
    "pd.DataFrame(y_test12_pred_prob).to_csv(\"xgboost12_155.csv\")"
   ]
  },
  {
   "cell_type": "code",
   "execution_count": 7,
   "metadata": {},
   "outputs": [
    {
     "name": "stdout",
     "output_type": "stream",
     "text": [
      "TRAIN: [16167 16168 16169 ... 64664 64665 64666] TEST: [    0     1     2 ... 16164 16165 16166]\n",
      "TRAIN: [    0     1     2 ... 64664 64665 64666] TEST: [16167 16168 16169 ... 32331 32332 32333]\n",
      "TRAIN: [    0     1     2 ... 64664 64665 64666] TEST: [32334 32335 32336 ... 48498 48499 48500]\n",
      "TRAIN: [    0     1     2 ... 48498 48499 48500] TEST: [48501 48502 48503 ... 64664 64665 64666]\n"
     ]
    }
   ],
   "source": [
    "# 5 no id train on 3rd\n",
    "kf =KFold(n_splits=4)\n",
    "# print(kf.split(X))\n",
    "index = []\n",
    "in_test = []\n",
    "for train_index, test_index in kf.split(X):\n",
    "    print(\"TRAIN:\", train_index, \"TEST:\", test_index)\n",
    "    X_train, X_test = X[train_index], X[test_index]\n",
    "    y_train, y_test = Y[train_index], Y[test_index]\n",
    "    index.append(train_index)\n",
    "    in_test.append(test_index)\n",
    "#     y_k.append(y_train)\n",
    "#     clf_xgb = XGBClassifier(max_depth=8, gamma=0.3, subsample=0.8, min_child_weight=4, n_estimators=150, colsample_bytree = 0.8, objective='binary:logistic') \n",
    "#     clf_xgb.fit(X_train, y_train)\n",
    "#     y_train_pred = clf_xgb.predict_proba(X_train)[:, 1]\n",
    "#     y_test_pred = clf_xgb.predict_proba(X_test)[:, 1]\n",
    "\n",
    "#     train_auc = metrics.roc_auc_score(y_train, y_train_pred)\n",
    "#     print(\"train auc: \", train_auc)\n",
    "#     test_auc = metrics.roc_auc_score(y_test, y_test_pred)\n",
    "#     print(\"test auc: \", test_auc)\n",
    "# print(len(X_train))\n",
    "# print(len(X_test))\n",
    "# print(X_k)\n",
    "# print(index)\n",
    "X_train, X_test = X[index[2]], X[in_test[2]]\n",
    "y_train, y_test = Y[index[2]], Y[in_test[2]]\n",
    "clf_xgb = XGBClassifier(max_depth=8, gamma=0.3, subsample=0.8, min_child_weight=4, n_estimators=150, colsample_bytree = 0.8, objective='binary:logistic') \n",
    "clf_xgb.fit(X_train, y_train)\n",
    "y_train_pred = clf_xgb.predict_proba(X_train)[:, 1]\n",
    "y_test_pred = clf_xgb.predict_proba(X_test)[:, 1]"
   ]
  },
  {
   "cell_type": "code",
   "execution_count": 8,
   "metadata": {},
   "outputs": [
    {
     "name": "stdout",
     "output_type": "stream",
     "text": [
      "train auc:  0.9136903351115206\n",
      "test auc:  0.7937981579379064\n"
     ]
    }
   ],
   "source": [
    "train_auc = metrics.roc_auc_score(y_train, y_train_pred)\n",
    "print(\"train auc: \", train_auc)\n",
    "test_auc = metrics.roc_auc_score(y_test, y_test_pred)\n",
    "print(\"test auc: \", test_auc)"
   ]
  },
  {
   "cell_type": "code",
   "execution_count": 9,
   "metadata": {},
   "outputs": [],
   "source": [
    "y_test_pred_prob = clf_xgb.predict_proba(X_t)[:, 1]\n",
    "pd.DataFrame(y_test_pred_prob).to_csv(\"xgboost_1304.csv\")"
   ]
  },
  {
   "cell_type": "code",
   "execution_count": 6,
   "metadata": {},
   "outputs": [
    {
     "name": "stdout",
     "output_type": "stream",
     "text": [
      "TRAIN: [16167 16168 16169 ... 64664 64665 64666] TEST: [    0     1     2 ... 16164 16165 16166]\n",
      "train auc:  0.917018773992156\n",
      "test auc:  0.7929736040924529\n",
      "TRAIN: [    0     1     2 ... 64664 64665 64666] TEST: [16167 16168 16169 ... 32331 32332 32333]\n",
      "train auc:  0.9162815892464278\n",
      "test auc:  0.7894076240209988\n",
      "TRAIN: [    0     1     2 ... 64664 64665 64666] TEST: [32334 32335 32336 ... 48498 48499 48500]\n",
      "train auc:  0.912373269320724\n",
      "test auc:  0.7939943600043025\n",
      "TRAIN: [    0     1     2 ... 48498 48499 48500] TEST: [48501 48502 48503 ... 64664 64665 64666]\n",
      "train auc:  0.9144277057681898\n",
      "test auc:  0.7906144554281467\n",
      "48501\n",
      "16166\n"
     ]
    }
   ],
   "source": [
    "# 5 no id no nan\n",
    "kf =KFold(n_splits=4)\n",
    "for train_index, test_index in kf.split(X):\n",
    "    print(\"TRAIN:\", train_index, \"TEST:\", test_index)\n",
    "    X_train, X_test = X[train_index], X[test_index]\n",
    "    y_train, y_test = Y[train_index], Y[test_index]\n",
    "    clf_xgb = XGBClassifier(max_depth=8, gamma=0.3, subsample=0.8, min_child_weight=4, n_estimators=150, colsample_bytree = 0.8, objective='binary:logistic') \n",
    "    clf_xgb.fit(X_train, y_train)\n",
    "    y_train_pred = clf_xgb.predict_proba(X_train)[:, 1]\n",
    "    y_test_pred = clf_xgb.predict_proba(X_test)[:, 1]\n",
    "\n",
    "    train_auc = metrics.roc_auc_score(y_train, y_train_pred)\n",
    "    print(\"train auc: \", train_auc)\n",
    "    test_auc = metrics.roc_auc_score(y_test, y_test_pred)\n",
    "    print(\"test auc: \", test_auc)\n",
    "print(len(X_train))\n",
    "print(len(X_test))"
   ]
  },
  {
   "cell_type": "code",
   "execution_count": 6,
   "metadata": {},
   "outputs": [],
   "source": [
    "clf_xgb = XGBClassifier(max_depth=8, gamma=0.3, subsample=0.8, min_child_weight=4, n_estimators=150, colsample_bytree = 0.8, objective='binary:logistic') \n",
    "clf_xgb.fit(X, Y)\n",
    "# y_train_pred = clf_xgb.predict_proba(X_train)[:, 1]\n",
    "# y_test_pred = clf_xgb.predict_proba(X_test)[:, 1]\n",
    "\n",
    "# train_auc = metrics.roc_auc_score(y_train, y_train_pred)\n",
    "# print(\"train auc: \", train_auc)\n",
    "# test_auc = metrics.roc_auc_score(y_test, y_test_pred)\n",
    "# print(\"test auc: \", test_auc)\n",
    "y_test_pred_prob = clf_xgb.predict_proba(X_t)[:, 1]\n",
    "pd.DataFrame(y_test_pred_prob).to_csv(\"xgboost_1038.csv\")"
   ]
  },
  {
   "cell_type": "code",
   "execution_count": 7,
   "metadata": {},
   "outputs": [
    {
     "name": "stdout",
     "output_type": "stream",
     "text": [
      "(82820, 366)\n"
     ]
    }
   ],
   "source": [
    "test12_path = \"test_2012.csv\"\n",
    "test12_data = read_file(test12_path)\n",
    "X_test12 = test12_data\n",
    "X_test12 = X_test12.drop('id', axis=1)\n",
    "X_test12.drop(same_resp_feature, axis=1, inplace=True)\n",
    "# for feature in X_test12.columns:\n",
    "#     X_test12[feature] = X_test12[feature].apply(lambda x: np.NaN if (x == -1) else x)\n",
    "X_t12 = X_test12.values\n",
    "print(X_t12.shape)\n",
    "y_test12_pred_prob = clf_xgb.predict_proba(X_t12)[:, 1]\n",
    "pd.DataFrame(y_test12_pred_prob).to_csv(\"xgboost12_1038.csv\")"
   ]
  },
  {
   "cell_type": "code",
   "execution_count": 8,
   "metadata": {},
   "outputs": [
    {
     "name": "stdout",
     "output_type": "stream",
     "text": [
      "TRAIN: [16167 16168 16169 ... 64664 64665 64666] TEST: [    0     1     2 ... 16164 16165 16166]\n",
      "train auc:  0.9065732794772703\n",
      "test auc:  0.7919557615812174\n",
      "TRAIN: [    0     1     2 ... 64664 64665 64666] TEST: [16167 16168 16169 ... 32331 32332 32333]\n",
      "train auc:  0.9067079304704138\n",
      "test auc:  0.7883497199019323\n",
      "TRAIN: [    0     1     2 ... 64664 64665 64666] TEST: [32334 32335 32336 ... 48498 48499 48500]\n",
      "train auc:  0.9059213288265974\n",
      "test auc:  0.793846249527046\n",
      "TRAIN: [    0     1     2 ... 48498 48499 48500] TEST: [48501 48502 48503 ... 64664 64665 64666]\n",
      "train auc:  0.9057924998519122\n",
      "test auc:  0.7878698688525368\n",
      "48501\n",
      "16166\n"
     ]
    }
   ],
   "source": [
    "# 5 no id    nan + one hot\n",
    "kf =KFold(n_splits=4)\n",
    "for train_index, test_index in kf.split(X):\n",
    "    print(\"TRAIN:\", train_index, \"TEST:\", test_index)\n",
    "    X_train, X_test = X[train_index], X[test_index]\n",
    "    y_train, y_test = Y[train_index], Y[test_index]\n",
    "    clf_xgb = XGBClassifier(max_depth=8, gamma=0.3, subsample=0.8, min_child_weight=4, n_estimators=150, colsample_bytree = 0.8, objective='binary:logistic') \n",
    "    clf_xgb.fit(X_train, y_train)\n",
    "    y_train_pred = clf_xgb.predict_proba(X_train)[:, 1]\n",
    "    y_test_pred = clf_xgb.predict_proba(X_test)[:, 1]\n",
    "\n",
    "    train_auc = metrics.roc_auc_score(y_train, y_train_pred)\n",
    "    print(\"train auc: \", train_auc)\n",
    "    test_auc = metrics.roc_auc_score(y_test, y_test_pred)\n",
    "    print(\"test auc: \", test_auc)\n",
    "print(len(X_train))\n",
    "print(len(X_test))"
   ]
  },
  {
   "cell_type": "code",
   "execution_count": 9,
   "metadata": {},
   "outputs": [],
   "source": [
    "clf_xgb = XGBClassifier(max_depth=8, gamma=0.3, subsample=0.8, min_child_weight=4, n_estimators=150, colsample_bytree = 0.8, objective='binary:logistic') \n",
    "clf_xgb.fit(X, Y)\n",
    "y_test_pred_prob = clf_xgb.predict_proba(X_t)[:, 1]\n",
    "pd.DataFrame(y_test_pred_prob).to_csv(\"xgboost_1142.csv\")"
   ]
  },
  {
   "cell_type": "code",
   "execution_count": 19,
   "metadata": {},
   "outputs": [
    {
     "name": "stdout",
     "output_type": "stream",
     "text": [
      "TRAIN: [16167 16168 16169 ... 64664 64665 64666] TEST: [    0     1     2 ... 16164 16165 16166]\n",
      "train auc:  0.928662501168097\n",
      "test auc:  0.7919047632723833\n",
      "TRAIN: [    0     1     2 ... 64664 64665 64666] TEST: [16167 16168 16169 ... 32331 32332 32333]\n",
      "train auc:  0.9268014796121307\n",
      "test auc:  0.7832425450697638\n",
      "TRAIN: [    0     1     2 ... 64664 64665 64666] TEST: [32334 32335 32336 ... 48498 48499 48500]\n",
      "train auc:  0.9259854388440252\n",
      "test auc:  0.7903221635726942\n",
      "TRAIN: [    0     1     2 ... 48498 48499 48500] TEST: [48501 48502 48503 ... 64664 64665 64666]\n",
      "train auc:  0.9298428966662761\n",
      "test auc:  0.7862417750855438\n",
      "48501\n",
      "16166\n"
     ]
    }
   ],
   "source": [
    "# 6 no id\n",
    "kf =KFold(n_splits=4)\n",
    "for train_index, test_index in kf.split(X):\n",
    "    print(\"TRAIN:\", train_index, \"TEST:\", test_index)\n",
    "    X_train, X_test = X[train_index], X[test_index]\n",
    "    y_train, y_test = Y[train_index], Y[test_index]\n",
    "    clf_xgb = XGBClassifier(max_depth=8, gamma=0.3, subsample=0.8, min_child_weight=4, n_estimators=150, colsample_bytree = 0.8, objective='binary:logistic', scale_pos_weight = 3) \n",
    "    clf_xgb.fit(X_train, y_train)\n",
    "    y_train_pred = clf_xgb.predict_proba(X_train)[:, 1]\n",
    "    y_test_pred = clf_xgb.predict_proba(X_test)[:, 1]\n",
    "\n",
    "    train_auc = metrics.roc_auc_score(y_train, y_train_pred)\n",
    "    print(\"train auc: \", train_auc)\n",
    "    test_auc = metrics.roc_auc_score(y_test, y_test_pred)\n",
    "    print(\"test auc: \", test_auc)\n",
    "print(len(X_train))\n",
    "print(len(X_test))"
   ]
  },
  {
   "cell_type": "code",
   "execution_count": 20,
   "metadata": {},
   "outputs": [
    {
     "name": "stdout",
     "output_type": "stream",
     "text": [
      "TRAIN: [16167 16168 16169 ... 64664 64665 64666] TEST: [    0     1     2 ... 16164 16165 16166]\n",
      "train auc:  0.9425954417601865\n",
      "test auc:  0.7913899260915883\n",
      "TRAIN: [    0     1     2 ... 64664 64665 64666] TEST: [16167 16168 16169 ... 32331 32332 32333]\n",
      "train auc:  0.9395710495653548\n",
      "test auc:  0.7853460782649373\n",
      "TRAIN: [    0     1     2 ... 64664 64665 64666] TEST: [32334 32335 32336 ... 48498 48499 48500]\n",
      "train auc:  0.938112298525706\n",
      "test auc:  0.7949214200258504\n",
      "TRAIN: [    0     1     2 ... 48498 48499 48500] TEST: [48501 48502 48503 ... 64664 64665 64666]\n",
      "train auc:  0.9381091050717552\n",
      "test auc:  0.7869330418945263\n",
      "48501\n",
      "16166\n"
     ]
    }
   ],
   "source": [
    "# 7 no id\n",
    "kf =KFold(n_splits=4)\n",
    "for train_index, test_index in kf.split(X):\n",
    "    print(\"TRAIN:\", train_index, \"TEST:\", test_index)\n",
    "    X_train, X_test = X[train_index], X[test_index]\n",
    "    y_train, y_test = Y[train_index], Y[test_index]\n",
    "    clf_xgb = XGBClassifier(max_depth=9, gamma=0.3, subsample=0.8, min_child_weight=4, n_estimators=150, colsample_bytree = 0.8, objective='binary:logistic') \n",
    "    clf_xgb.fit(X_train, y_train)\n",
    "    y_train_pred = clf_xgb.predict_proba(X_train)[:, 1]\n",
    "    y_test_pred = clf_xgb.predict_proba(X_test)[:, 1]\n",
    "\n",
    "    train_auc = metrics.roc_auc_score(y_train, y_train_pred)\n",
    "    print(\"train auc: \", train_auc)\n",
    "    test_auc = metrics.roc_auc_score(y_test, y_test_pred)\n",
    "    print(\"test auc: \", test_auc)\n",
    "print(len(X_train))\n",
    "print(len(X_test))"
   ]
  },
  {
   "cell_type": "code",
   "execution_count": 21,
   "metadata": {},
   "outputs": [
    {
     "name": "stdout",
     "output_type": "stream",
     "text": [
      "TRAIN: [16167 16168 16169 ... 64664 64665 64666] TEST: [    0     1     2 ... 16164 16165 16166]\n",
      "train auc:  0.9311781668902859\n",
      "test auc:  0.7913502843365555\n",
      "TRAIN: [    0     1     2 ... 64664 64665 64666] TEST: [16167 16168 16169 ... 32331 32332 32333]\n",
      "train auc:  0.9288422102250014\n",
      "test auc:  0.7861010854697739\n",
      "TRAIN: [    0     1     2 ... 64664 64665 64666] TEST: [32334 32335 32336 ... 48498 48499 48500]\n",
      "train auc:  0.9270387301140994\n",
      "test auc:  0.79334533386399\n",
      "TRAIN: [    0     1     2 ... 48498 48499 48500] TEST: [48501 48502 48503 ... 64664 64665 64666]\n",
      "train auc:  0.9278340513652251\n",
      "test auc:  0.7875696441391277\n",
      "48501\n",
      "16166\n"
     ]
    }
   ],
   "source": [
    "# 8 no id\n",
    "kf =KFold(n_splits=4)\n",
    "for train_index, test_index in kf.split(X):\n",
    "    print(\"TRAIN:\", train_index, \"TEST:\", test_index)\n",
    "    X_train, X_test = X[train_index], X[test_index]\n",
    "    y_train, y_test = Y[train_index], Y[test_index]\n",
    "    clf_xgb = XGBClassifier(max_depth=8, gamma=0.3, subsample=0.75, min_child_weight=4, n_estimators=200, colsample_bytree = 0.75, objective='binary:logistic') \n",
    "    clf_xgb.fit(X_train, y_train)\n",
    "    y_train_pred = clf_xgb.predict_proba(X_train)[:, 1]\n",
    "    y_test_pred = clf_xgb.predict_proba(X_test)[:, 1]\n",
    "\n",
    "    train_auc = metrics.roc_auc_score(y_train, y_train_pred)\n",
    "    print(\"train auc: \", train_auc)\n",
    "    test_auc = metrics.roc_auc_score(y_test, y_test_pred)\n",
    "    print(\"test auc: \", test_auc)\n",
    "print(len(X_train))\n",
    "print(len(X_test))"
   ]
  },
  {
   "cell_type": "code",
   "execution_count": 22,
   "metadata": {},
   "outputs": [
    {
     "name": "stdout",
     "output_type": "stream",
     "text": [
      "TRAIN: [16167 16168 16169 ... 64664 64665 64666] TEST: [    0     1     2 ... 16164 16165 16166]\n",
      "train auc:  0.914906087637018\n",
      "test auc:  0.7916165515329872\n",
      "TRAIN: [    0     1     2 ... 64664 64665 64666] TEST: [16167 16168 16169 ... 32331 32332 32333]\n",
      "train auc:  0.9128350740437428\n",
      "test auc:  0.7855574340462964\n",
      "TRAIN: [    0     1     2 ... 64664 64665 64666] TEST: [32334 32335 32336 ... 48498 48499 48500]\n",
      "train auc:  0.9128857380799902\n",
      "test auc:  0.7936860109959687\n",
      "TRAIN: [    0     1     2 ... 48498 48499 48500] TEST: [48501 48502 48503 ... 64664 64665 64666]\n",
      "train auc:  0.912302845431968\n",
      "test auc:  0.7881983509407647\n",
      "48501\n",
      "16166\n"
     ]
    }
   ],
   "source": [
    "# 9 no id\n",
    "kf =KFold(n_splits=4)\n",
    "for train_index, test_index in kf.split(X):\n",
    "    print(\"TRAIN:\", train_index, \"TEST:\", test_index)\n",
    "    X_train, X_test = X[train_index], X[test_index]\n",
    "    y_train, y_test = Y[train_index], Y[test_index]\n",
    "    clf_xgb = XGBClassifier(max_depth=8, gamma=0.3, subsample=0.75, min_child_weight=4, n_estimators=150, colsample_bytree = 0.75, objective='binary:logistic') \n",
    "    clf_xgb.fit(X_train, y_train)\n",
    "    y_train_pred = clf_xgb.predict_proba(X_train)[:, 1]\n",
    "    y_test_pred = clf_xgb.predict_proba(X_test)[:, 1]\n",
    "\n",
    "    train_auc = metrics.roc_auc_score(y_train, y_train_pred)\n",
    "    print(\"train auc: \", train_auc)\n",
    "    test_auc = metrics.roc_auc_score(y_test, y_test_pred)\n",
    "    print(\"test auc: \", test_auc)\n",
    "print(len(X_train))\n",
    "print(len(X_test))"
   ]
  },
  {
   "cell_type": "code",
   "execution_count": 23,
   "metadata": {},
   "outputs": [
    {
     "name": "stdout",
     "output_type": "stream",
     "text": [
      "TRAIN: [16167 16168 16169 ... 64664 64665 64666] TEST: [    0     1     2 ... 16164 16165 16166]\n",
      "train auc:  0.9140087298411759\n",
      "test auc:  0.7926639028812599\n",
      "TRAIN: [    0     1     2 ... 64664 64665 64666] TEST: [16167 16168 16169 ... 32331 32332 32333]\n",
      "train auc:  0.9115236158868094\n",
      "test auc:  0.7861132889083162\n",
      "TRAIN: [    0     1     2 ... 64664 64665 64666] TEST: [32334 32335 32336 ... 48498 48499 48500]\n",
      "train auc:  0.9124878138647678\n",
      "test auc:  0.7931581352000588\n",
      "TRAIN: [    0     1     2 ... 48498 48499 48500] TEST: [48501 48502 48503 ... 64664 64665 64666]\n",
      "train auc:  0.9137876996084209\n",
      "test auc:  0.7869694816394343\n",
      "48501\n",
      "16166\n"
     ]
    }
   ],
   "source": [
    "# 10 no id\n",
    "kf =KFold(n_splits=4)\n",
    "for train_index, test_index in kf.split(X):\n",
    "    print(\"TRAIN:\", train_index, \"TEST:\", test_index)\n",
    "    X_train, X_test = X[train_index], X[test_index]\n",
    "    y_train, y_test = Y[train_index], Y[test_index]\n",
    "    clf_xgb = XGBClassifier(max_depth=8, gamma=0.35, subsample=0.75, min_child_weight=4, n_estimators=150, colsample_bytree = 0.75, objective='binary:logistic') \n",
    "    clf_xgb.fit(X_train, y_train)\n",
    "    y_train_pred = clf_xgb.predict_proba(X_train)[:, 1]\n",
    "    y_test_pred = clf_xgb.predict_proba(X_test)[:, 1]\n",
    "\n",
    "    train_auc = metrics.roc_auc_score(y_train, y_train_pred)\n",
    "    print(\"train auc: \", train_auc)\n",
    "    test_auc = metrics.roc_auc_score(y_test, y_test_pred)\n",
    "    print(\"test auc: \", test_auc)\n",
    "print(len(X_train))\n",
    "print(len(X_test))"
   ]
  },
  {
   "cell_type": "code",
   "execution_count": 24,
   "metadata": {},
   "outputs": [
    {
     "name": "stdout",
     "output_type": "stream",
     "text": [
      "TRAIN: [16167 16168 16169 ... 64664 64665 64666] TEST: [    0     1     2 ... 16164 16165 16166]\n",
      "train auc:  0.9225995553986317\n",
      "test auc:  0.7917481581146186\n",
      "TRAIN: [    0     1     2 ... 64664 64665 64666] TEST: [16167 16168 16169 ... 32331 32332 32333]\n",
      "train auc:  0.9206035086666997\n",
      "test auc:  0.7861148335178887\n",
      "TRAIN: [    0     1     2 ... 64664 64665 64666] TEST: [32334 32335 32336 ... 48498 48499 48500]\n",
      "train auc:  0.9188021287326771\n",
      "test auc:  0.7935699782696521\n",
      "TRAIN: [    0     1     2 ... 48498 48499 48500] TEST: [48501 48502 48503 ... 64664 64665 64666]\n",
      "train auc:  0.9184305212642316\n",
      "test auc:  0.7879490013748757\n",
      "48501\n",
      "16166\n"
     ]
    }
   ],
   "source": [
    "# 11 no id possible????\n",
    "kf =KFold(n_splits=4)\n",
    "for train_index, test_index in kf.split(X):\n",
    "    print(\"TRAIN:\", train_index, \"TEST:\", test_index)\n",
    "    X_train, X_test = X[train_index], X[test_index]\n",
    "    y_train, y_test = Y[train_index], Y[test_index]\n",
    "    clf_xgb = XGBClassifier(max_depth=8, gamma=0.3, subsample=0.75, min_child_weight=4, n_estimators=170, colsample_bytree = 0.75, objective='binary:logistic') \n",
    "    clf_xgb.fit(X_train, y_train)\n",
    "    y_train_pred = clf_xgb.predict_proba(X_train)[:, 1]\n",
    "    y_test_pred = clf_xgb.predict_proba(X_test)[:, 1]\n",
    "\n",
    "    train_auc = metrics.roc_auc_score(y_train, y_train_pred)\n",
    "    print(\"train auc: \", train_auc)\n",
    "    test_auc = metrics.roc_auc_score(y_test, y_test_pred)\n",
    "    print(\"test auc: \", test_auc)\n",
    "print(len(X_train))\n",
    "print(len(X_test))"
   ]
  },
  {
   "cell_type": "code",
   "execution_count": 10,
   "metadata": {},
   "outputs": [
    {
     "data": {
      "text/plain": [
       "XGBClassifier(base_score=0.5, booster='gbtree', colsample_bylevel=1,\n",
       "       colsample_bytree=0.75, gamma=0.3, learning_rate=0.1,\n",
       "       max_delta_step=0, max_depth=8, min_child_weight=4, missing=None,\n",
       "       n_estimators=170, n_jobs=1, nthread=None,\n",
       "       objective='binary:logistic', random_state=0, reg_alpha=0,\n",
       "       reg_lambda=1, scale_pos_weight=1, seed=None, silent=True,\n",
       "       subsample=0.75)"
      ]
     },
     "execution_count": 10,
     "metadata": {},
     "output_type": "execute_result"
    }
   ],
   "source": [
    "clf_xgb = XGBClassifier(max_depth=8, gamma=0.3, subsample=0.75, min_child_weight=4, n_estimators=170, colsample_bytree = 0.75, objective='binary:logistic') \n",
    "clf_xgb.fit(X, Y)\n",
    "# y_test_pred_prob = clf_xgb.predict_proba(X_t)[:, 1]\n",
    "# pd.DataFrame(y_test_pred_prob).to_csv(\"xgboost_1246.csv\")"
   ]
  },
  {
   "cell_type": "code",
   "execution_count": 11,
   "metadata": {},
   "outputs": [
    {
     "name": "stdout",
     "output_type": "stream",
     "text": [
      "(82820, 366)\n"
     ]
    }
   ],
   "source": [
    "test12_path = \"test_2012.csv\"\n",
    "test12_data = read_file(test12_path)\n",
    "X_test12 = test12_data\n",
    "X_test12 = X_test12.drop('id', axis=1)\n",
    "X_test12.drop(same_resp_feature, axis=1, inplace=True)\n",
    "for feature in X_test12.columns:\n",
    "    X_test12[feature] = X_test12[feature].apply(lambda x: np.NaN if (x == -1) else x)\n",
    "X_t12 = X_test12.values\n",
    "print(X_t12.shape)\n",
    "y_test12_pred_prob = clf_xgb.predict_proba(X_t12)[:, 1]\n",
    "pd.DataFrame(y_test12_pred_prob).to_csv(\"xgboost12_1246.csv\")"
   ]
  },
  {
   "cell_type": "code",
   "execution_count": 12,
   "metadata": {},
   "outputs": [
    {
     "name": "stdout",
     "output_type": "stream",
     "text": [
      "TRAIN: [16167 16168 16169 ... 64664 64665 64666] TEST: [    0     1     2 ... 16164 16165 16166]\n",
      "train auc:  0.919218624768096\n",
      "test auc:  0.7918286450351046\n",
      "TRAIN: [    0     1     2 ... 64664 64665 64666] TEST: [16167 16168 16169 ... 32331 32332 32333]\n",
      "train auc:  0.9166384943645579\n",
      "test auc:  0.7859215936540973\n",
      "TRAIN: [    0     1     2 ... 64664 64665 64666] TEST: [32334 32335 32336 ... 48498 48499 48500]\n",
      "train auc:  0.9152395237343512\n",
      "test auc:  0.7938879215600343\n",
      "TRAIN: [    0     1     2 ... 48498 48499 48500] TEST: [48501 48502 48503 ... 64664 64665 64666]\n",
      "train auc:  0.915286721783791\n",
      "test auc:  0.7880224745070197\n",
      "48501\n",
      "16166\n"
     ]
    }
   ],
   "source": [
    "# 14 no id\n",
    "kf =KFold(n_splits=4)\n",
    "for train_index, test_index in kf.split(X):\n",
    "    print(\"TRAIN:\", train_index, \"TEST:\", test_index)\n",
    "    X_train, X_test = X[train_index], X[test_index]\n",
    "    y_train, y_test = Y[train_index], Y[test_index]\n",
    "    clf_xgb = XGBClassifier(max_depth=8, gamma=0.3, subsample=0.75, min_child_weight=4, n_estimators=160, colsample_bytree = 0.75, objective='binary:logistic') \n",
    "    clf_xgb.fit(X_train, y_train)\n",
    "    y_train_pred = clf_xgb.predict_proba(X_train)[:, 1]\n",
    "    y_test_pred = clf_xgb.predict_proba(X_test)[:, 1]\n",
    "\n",
    "    train_auc = metrics.roc_auc_score(y_train, y_train_pred)\n",
    "    print(\"train auc: \", train_auc)\n",
    "    test_auc = metrics.roc_auc_score(y_test, y_test_pred)\n",
    "    print(\"test auc: \", test_auc)\n",
    "print(len(X_train))\n",
    "print(len(X_test))"
   ]
  },
  {
   "cell_type": "code",
   "execution_count": 13,
   "metadata": {},
   "outputs": [
    {
     "name": "stdout",
     "output_type": "stream",
     "text": [
      "TRAIN: [16167 16168 16169 ... 64664 64665 64666] TEST: [    0     1     2 ... 16164 16165 16166]\n",
      "train auc:  0.9096913198044378\n",
      "test auc:  0.7907391136459542\n",
      "TRAIN: [    0     1     2 ... 64664 64665 64666] TEST: [16167 16168 16169 ... 32331 32332 32333]\n",
      "train auc:  0.9069782080247503\n",
      "test auc:  0.7863752178666688\n",
      "TRAIN: [    0     1     2 ... 64664 64665 64666] TEST: [32334 32335 32336 ... 48498 48499 48500]\n",
      "train auc:  0.9060436413223921\n",
      "test auc:  0.7937588293934352\n",
      "TRAIN: [    0     1     2 ... 48498 48499 48500] TEST: [48501 48502 48503 ... 64664 64665 64666]\n",
      "train auc:  0.9079346916202776\n",
      "test auc:  0.7885266945124495\n",
      "48501\n",
      "16166\n"
     ]
    }
   ],
   "source": [
    "# 15 no id\n",
    "kf =KFold(n_splits=4)\n",
    "for train_index, test_index in kf.split(X):\n",
    "    print(\"TRAIN:\", train_index, \"TEST:\", test_index)\n",
    "    X_train, X_test = X[train_index], X[test_index]\n",
    "    y_train, y_test = Y[train_index], Y[test_index]\n",
    "    clf_xgb = XGBClassifier(max_depth=8, gamma=0.3, subsample=0.8, min_child_weight=4, n_estimators=130, colsample_bytree = 0.8, objective='binary:logistic') \n",
    "    clf_xgb.fit(X_train, y_train)\n",
    "    y_train_pred = clf_xgb.predict_proba(X_train)[:, 1]\n",
    "    y_test_pred = clf_xgb.predict_proba(X_test)[:, 1]\n",
    "\n",
    "    train_auc = metrics.roc_auc_score(y_train, y_train_pred)\n",
    "    print(\"train auc: \", train_auc)\n",
    "    test_auc = metrics.roc_auc_score(y_test, y_test_pred)\n",
    "    print(\"test auc: \", test_auc)\n",
    "print(len(X_train))\n",
    "print(len(X_test))"
   ]
  },
  {
   "cell_type": "code",
   "execution_count": 14,
   "metadata": {},
   "outputs": [],
   "source": [
    "clf_xgb = XGBClassifier(max_depth=8, gamma=0.3, subsample=0.8, min_child_weight=4, n_estimators=130, colsample_bytree = 0.8, objective='binary:logistic') \n",
    "clf_xgb.fit(X, Y)\n",
    "y_test_pred_prob = clf_xgb.predict_proba(X_t)[:, 1]\n",
    "pd.DataFrame(y_test_pred_prob).to_csv(\"xgboost_1338.csv\")"
   ]
  },
  {
   "cell_type": "code",
   "execution_count": 10,
   "metadata": {},
   "outputs": [
    {
     "name": "stdout",
     "output_type": "stream",
     "text": [
      "TRAIN: [16167 16168 16169 ... 64664 64665 64666] TEST: [    0     1     2 ... 16164 16165 16166]\n",
      "train auc:  0.9226867376729919\n",
      "test auc:  0.7938282176322643\n",
      "TRAIN: [    0     1     2 ... 64664 64665 64666] TEST: [16167 16168 16169 ... 32331 32332 32333]\n",
      "train auc:  0.9214900226025233\n",
      "test auc:  0.7862612543219915\n",
      "TRAIN: [    0     1     2 ... 64664 64665 64666] TEST: [32334 32335 32336 ... 48498 48499 48500]\n",
      "train auc:  0.9212164336606532\n",
      "test auc:  0.7945869321071346\n",
      "TRAIN: [    0     1     2 ... 48498 48499 48500] TEST: [48501 48502 48503 ... 64664 64665 64666]\n",
      "train auc:  0.9187792363790558\n",
      "test auc:  0.7894400231283052\n",
      "48501\n",
      "16166\n"
     ]
    }
   ],
   "source": [
    "# 11 no id no nan\n",
    "kf =KFold(n_splits=4)\n",
    "for train_index, test_index in kf.split(X):\n",
    "    print(\"TRAIN:\", train_index, \"TEST:\", test_index)\n",
    "    X_train, X_test = X[train_index], X[test_index]\n",
    "    y_train, y_test = Y[train_index], Y[test_index]\n",
    "    clf_xgb = XGBClassifier(max_depth=8, gamma=0.3, subsample=0.75, min_child_weight=4, n_estimators=170, colsample_bytree = 0.75, objective='binary:logistic') \n",
    "    clf_xgb.fit(X_train, y_train)\n",
    "    y_train_pred = clf_xgb.predict_proba(X_train)[:, 1]\n",
    "    y_test_pred = clf_xgb.predict_proba(X_test)[:, 1]\n",
    "\n",
    "    train_auc = metrics.roc_auc_score(y_train, y_train_pred)\n",
    "    print(\"train auc: \", train_auc)\n",
    "    test_auc = metrics.roc_auc_score(y_test, y_test_pred)\n",
    "    print(\"test auc: \", test_auc)\n",
    "print(len(X_train))\n",
    "print(len(X_test))"
   ]
  },
  {
   "cell_type": "code",
   "execution_count": 25,
   "metadata": {},
   "outputs": [
    {
     "name": "stdout",
     "output_type": "stream",
     "text": [
      "TRAIN: [16167 16168 16169 ... 64664 64665 64666] TEST: [    0     1     2 ... 16164 16165 16166]\n",
      "train auc:  0.9179815137514167\n",
      "test auc:  0.792558619638493\n",
      "TRAIN: [    0     1     2 ... 64664 64665 64666] TEST: [16167 16168 16169 ... 32331 32332 32333]\n",
      "train auc:  0.9158856839365896\n",
      "test auc:  0.7854367294571939\n",
      "TRAIN: [    0     1     2 ... 64664 64665 64666] TEST: [32334 32335 32336 ... 48498 48499 48500]\n",
      "train auc:  0.9119556548758794\n",
      "test auc:  0.7935975493119056\n",
      "TRAIN: [    0     1     2 ... 48498 48499 48500] TEST: [48501 48502 48503 ... 64664 64665 64666]\n",
      "train auc:  0.9135309140430259\n",
      "test auc:  0.7896803988010008\n",
      "48501\n",
      "16166\n"
     ]
    }
   ],
   "source": [
    "# 12 no id\n",
    "kf =KFold(n_splits=4)\n",
    "for train_index, test_index in kf.split(X):\n",
    "    print(\"TRAIN:\", train_index, \"TEST:\", test_index)\n",
    "    X_train, X_test = X[train_index], X[test_index]\n",
    "    y_train, y_test = Y[train_index], Y[test_index]\n",
    "    clf_xgb = XGBClassifier(max_depth=8, gamma=0.35, subsample=0.8, min_child_weight=4, n_estimators=150, colsample_bytree = 0.8, objective='binary:logistic') \n",
    "    clf_xgb.fit(X_train, y_train)\n",
    "    y_train_pred = clf_xgb.predict_proba(X_train)[:, 1]\n",
    "    y_test_pred = clf_xgb.predict_proba(X_test)[:, 1]\n",
    "\n",
    "    train_auc = metrics.roc_auc_score(y_train, y_train_pred)\n",
    "    print(\"train auc: \", train_auc)\n",
    "    test_auc = metrics.roc_auc_score(y_test, y_test_pred)\n",
    "    print(\"test auc: \", test_auc)\n",
    "print(len(X_train))\n",
    "print(len(X_test))"
   ]
  },
  {
   "cell_type": "code",
   "execution_count": 26,
   "metadata": {},
   "outputs": [
    {
     "name": "stdout",
     "output_type": "stream",
     "text": [
      "TRAIN: [16167 16168 16169 ... 64664 64665 64666] TEST: [    0     1     2 ... 16164 16165 16166]\n",
      "train auc:  0.9236277887060527\n",
      "test auc:  0.7924863543370992\n",
      "TRAIN: [    0     1     2 ... 64664 64665 64666] TEST: [16167 16168 16169 ... 32331 32332 32333]\n",
      "train auc:  0.9217448735131841\n",
      "test auc:  0.7854946676599632\n",
      "TRAIN: [    0     1     2 ... 64664 64665 64666] TEST: [32334 32335 32336 ... 48498 48499 48500]\n",
      "train auc:  0.9193726091690855\n",
      "test auc:  0.7934682468322344\n",
      "TRAIN: [    0     1     2 ... 48498 48499 48500] TEST: [48501 48502 48503 ... 64664 64665 64666]\n",
      "train auc:  0.9200754390913893\n",
      "test auc:  0.7895565551173157\n",
      "48501\n",
      "16166\n"
     ]
    }
   ],
   "source": [
    "# 13 no id\n",
    "kf =KFold(n_splits=4)\n",
    "for train_index, test_index in kf.split(X):\n",
    "    print(\"TRAIN:\", train_index, \"TEST:\", test_index)\n",
    "    X_train, X_test = X[train_index], X[test_index]\n",
    "    y_train, y_test = Y[train_index], Y[test_index]\n",
    "    clf_xgb = XGBClassifier(max_depth=8, gamma=0.35, subsample=0.8, min_child_weight=4, n_estimators=170, colsample_bytree = 0.8, objective='binary:logistic') \n",
    "    clf_xgb.fit(X_train, y_train)\n",
    "    y_train_pred = clf_xgb.predict_proba(X_train)[:, 1]\n",
    "    y_test_pred = clf_xgb.predict_proba(X_test)[:, 1]\n",
    "\n",
    "    train_auc = metrics.roc_auc_score(y_train, y_train_pred)\n",
    "    print(\"train auc: \", train_auc)\n",
    "    test_auc = metrics.roc_auc_score(y_test, y_test_pred)\n",
    "    print(\"test auc: \", test_auc)\n",
    "print(len(X_train))\n",
    "print(len(X_test))"
   ]
  },
  {
   "cell_type": "code",
   "execution_count": 12,
   "metadata": {},
   "outputs": [
    {
     "name": "stdout",
     "output_type": "stream",
     "text": [
      "train auc:  0.9800306961111053\n",
      "test auc:  0.785634237348986\n"
     ]
    }
   ],
   "source": [
    "test_size = 0.3\n",
    "X_train, X_test, y_train, y_test = model_selection.train_test_split(X, Y, test_size=test_size, random_state=10)\n",
    "clf_xgb = XGBClassifier(max_depth=9, gamma=0.25, subsample=0.7, min_child_weight=2, n_estimators=200, objective='binary:logistic', scale_pos_weight=3) \n",
    "clf_xgb.fit(X_train, y_train)\n",
    "y_train_pred = clf_xgb.predict_proba(X_train)[:, 1]\n",
    "y_test_pred = clf_xgb.predict_proba(X_test)[:, 1]\n",
    "\n",
    "train_auc = metrics.roc_auc_score(y_train, y_train_pred)\n",
    "print(\"train auc: \", train_auc)\n",
    "test_auc = metrics.roc_auc_score(y_test, y_test_pred)\n",
    "print(\"test auc: \", test_auc)"
   ]
  },
  {
   "cell_type": "code",
   "execution_count": 15,
   "metadata": {},
   "outputs": [],
   "source": [
    "y_test_pred_prob = clf_xgb.predict_proba(X_t)[:, 1]\n",
    "pd.DataFrame(y_test_pred_prob).to_csv(\"xgb_test_po2_2008.csv\")"
   ]
  },
  {
   "cell_type": "code",
   "execution_count": null,
   "metadata": {},
   "outputs": [],
   "source": [
    "test_size = 0.3\n",
    "X_train, X_test, y_train, y_test = model_selection.train_test_split(X, Y, test_size=test_size, random_state=10)\n",
    "clf_xgb = XGBClassifier(max_depth=9, gamma=0.2, subsample=0.8, min_child_weight=2, n_estimators=50, objective='binary:logistic') \n",
    "clf_xgb.fit(X_train, y_train)\n",
    "y_train_pred = clf_xgb.predict_proba(X_train)[:, 1]\n",
    "y_test_pred = clf_xgb.predict_proba(X_test)[:, 1]\n",
    "\n",
    "train_auc = metrics.roc_auc_score(y_train, y_train_pred)\n",
    "print(\"train auc: \", train_auc)\n",
    "test_auc = metrics.roc_auc_score(y_test, y_test_pred)\n",
    "print(\"test auc: \", test_auc)"
   ]
  },
  {
   "cell_type": "code",
   "execution_count": null,
   "metadata": {},
   "outputs": [],
   "source": []
  }
 ],
 "metadata": {
  "kernelspec": {
   "display_name": "Python 3",
   "language": "python",
   "name": "python3"
  },
  "language_info": {
   "codemirror_mode": {
    "name": "ipython",
    "version": 3
   },
   "file_extension": ".py",
   "mimetype": "text/x-python",
   "name": "python",
   "nbconvert_exporter": "python",
   "pygments_lexer": "ipython3",
   "version": "3.6.8"
  }
 },
 "nbformat": 4,
 "nbformat_minor": 2
}
