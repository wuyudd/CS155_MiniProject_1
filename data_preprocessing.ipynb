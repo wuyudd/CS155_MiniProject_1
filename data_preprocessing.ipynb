{
 "cells": [
  {
   "cell_type": "code",
   "execution_count": 1,
   "metadata": {},
   "outputs": [],
   "source": [
    "# Data Preprocessing - version 1"
   ]
  },
  {
   "cell_type": "code",
   "execution_count": 1,
   "metadata": {},
   "outputs": [],
   "source": [
    "import csv\n",
    "import numpy as np\n",
    "import pandas as pd\n",
    "import matplotlib.pyplot as plt"
   ]
  },
  {
   "cell_type": "code",
   "execution_count": 2,
   "metadata": {},
   "outputs": [],
   "source": [
    "def read_file(filename):\n",
    "    raw_data = pd.read_csv(filename)\n",
    "    data = raw_data.copy()\n",
    "    return data"
   ]
  },
  {
   "cell_type": "code",
   "execution_count": 31,
   "metadata": {},
   "outputs": [
    {
     "name": "stdout",
     "output_type": "stream",
     "text": [
      "(64667, 382)\n",
      "(64667,)\n"
     ]
    }
   ],
   "source": [
    "# read in the train file\n",
    "train_data = read_file(\"train_2008.csv\")\n",
    "y_train = train_data['target']\n",
    "X_train = train_data.drop('target', axis=1)\n",
    "print(X_train.shape)\n",
    "print(y_train.shape)"
   ]
  },
  {
   "cell_type": "code",
   "execution_count": 32,
   "metadata": {},
   "outputs": [],
   "source": [
    "# drop useless features\n",
    "\n",
    "def drop_same_resp_feature(X_train):\n",
    "    same_resp_feature = []\n",
    "    for feature in X_train.columns:\n",
    "        if len(np.unique(X_train[feature])) == 1:\n",
    "            same_resp_feature.append(feature)\n",
    "    print(len(same_resp_feature))\n",
    "    return same_resp_feature\n",
    "\n",
    "def drop_allocation_flag(X_train):\n",
    "    allocation_flag_feature = []\n",
    "    for feature in X_train.columns:\n",
    "        if feature[:2] == 'PX' or feature[:2] == 'HX':\n",
    "            #print(feature)\n",
    "            allocation_flag_feature.append(feature)\n",
    "    other_alloc = ['PRCITFLG', 'PRWERNAL', 'PRHERNAL']\n",
    "    allocation_flag_feature = allocation_flag_feature + other_alloc\n",
    "    print(len(allocation_flag_feature))\n",
    "    return allocation_flag_feature\n"
   ]
  },
  {
   "cell_type": "code",
   "execution_count": 33,
   "metadata": {},
   "outputs": [
    {
     "name": "stdout",
     "output_type": "stream",
     "text": [
      "15\n",
      "104\n",
      "(64667, 265)\n"
     ]
    }
   ],
   "source": [
    "# drop useless features\n",
    "same_resp_feature = drop_same_resp_feature(X_train)\n",
    "allocation_flag_feature = drop_allocation_flag(X_train)\n",
    "drop_features = list(set(same_resp_feature + allocation_flag_feature))\n",
    "X_train.drop(drop_features, axis=1, inplace=True)\n",
    "print(X_train.shape)"
   ]
  },
  {
   "cell_type": "code",
   "execution_count": 34,
   "metadata": {},
   "outputs": [],
   "source": [
    "# categorical features\n"
   ]
  },
  {
   "cell_type": "code",
   "execution_count": 35,
   "metadata": {},
   "outputs": [],
   "source": [
    "# numerical features"
   ]
  },
  {
   "cell_type": "code",
   "execution_count": 36,
   "metadata": {},
   "outputs": [],
   "source": [
    "# one-hot encoding"
   ]
  },
  {
   "cell_type": "code",
   "execution_count": null,
   "metadata": {},
   "outputs": [],
   "source": []
  }
 ],
 "metadata": {
  "kernelspec": {
   "display_name": "Python 3",
   "language": "python",
   "name": "python3"
  },
  "language_info": {
   "codemirror_mode": {
    "name": "ipython",
    "version": 3
   },
   "file_extension": ".py",
   "mimetype": "text/x-python",
   "name": "python",
   "nbconvert_exporter": "python",
   "pygments_lexer": "ipython3",
   "version": "3.6.8"
  }
 },
 "nbformat": 4,
 "nbformat_minor": 2
}
