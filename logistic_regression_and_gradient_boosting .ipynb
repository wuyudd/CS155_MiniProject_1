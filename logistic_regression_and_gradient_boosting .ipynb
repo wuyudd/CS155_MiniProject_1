{
 "cells": [
  {
   "cell_type": "code",
   "execution_count": 1,
   "metadata": {},
   "outputs": [],
   "source": [
    "# Version 1.0\n",
    "# Here we try logistic regression on raw data and processed data\n",
    "# Here we try graident boosting on raw adta and processed data\n",
    "# we tune hyperparameters in order to find the highest auc score"
   ]
  },
  {
   "cell_type": "code",
   "execution_count": 2,
   "metadata": {},
   "outputs": [],
   "source": [
    "import csv\n",
    "import numpy as np\n",
    "import pandas as pd\n",
    "import matplotlib.pyplot as plt\n",
    "from sklearn import linear_model, metrics, ensemble\n",
    "from sklearn import model_selection\n",
    "from xgboost import XGBClassifier\n",
    "import os\n",
    "os.environ['KMP_DUPLICATE_LIB_OK']='True'"
   ]
  },
  {
   "cell_type": "code",
   "execution_count": 3,
   "metadata": {},
   "outputs": [],
   "source": [
    "def read_file(filename):\n",
    "    '''\n",
    "    input: the file path\n",
    "    function: read in csv file\n",
    "    return: dataframe type of data\n",
    "    '''\n",
    "    raw_data = pd.read_csv(filename)\n",
    "    data = raw_data.copy()\n",
    "    return data"
   ]
  },
  {
   "cell_type": "code",
   "execution_count": 4,
   "metadata": {},
   "outputs": [],
   "source": [
    "# tries about dropping features (same_response_features/allocation_features)\n",
    "\n",
    "def select_same_resp_feature(X):\n",
    "    '''\n",
    "    input: dataframe X\n",
    "    function: find out same response features\n",
    "    output: list of same response features\n",
    "    '''\n",
    "    same_resp_feature = []\n",
    "    for feature in X.columns:\n",
    "        if len(np.unique(X[feature])) == 1:\n",
    "            same_resp_feature.append(feature)\n",
    "    print(len(same_resp_feature))\n",
    "    return same_resp_feature\n",
    "\n",
    "def select_allocation_flag(X):\n",
    "    '''\n",
    "    input: dataframe X\n",
    "    function: find out all the allocation_flag features\n",
    "    output: list of allocation_flag features\n",
    "    '''\n",
    "    allocation_flag_feature = []\n",
    "    for feature in X.columns:\n",
    "        if feature[:2] == 'PX' or feature[:2] == 'HX':\n",
    "            #print(feature)\n",
    "            allocation_flag_feature.append(feature)\n",
    "    other_alloc = ['PRCITFLG', 'PRWERNAL', 'PRHERNAL']\n",
    "    allocation_flag_feature = allocation_flag_feature + other_alloc\n",
    "    print(len(allocation_flag_feature))\n",
    "    return allocation_flag_feature\n",
    "\n",
    "def drop_features(X):\n",
    "    '''\n",
    "    input: dataframe X\n",
    "    function: wrapper on dropping undesired features in place.\n",
    "    '''\n",
    "    same_resp_feature = select_same_resp_feature(X)\n",
    "    allocation_flag_feature = select_allocation_flag(X)\n",
    "    drop_features = list(set(same_resp_feature + allocation_flag_feature))\n",
    "    X.drop(drop_features, axis=1, inplace=True)\n",
    "    print(X.shape)\n",
    "    "
   ]
  },
  {
   "cell_type": "code",
   "execution_count": 5,
   "metadata": {},
   "outputs": [],
   "source": [
    "def train_data_preprocessing(filename):\n",
    "    # read in the train file\n",
    "    train_data = read_file(filename)\n",
    "    y_train = train_data['target']\n",
    "    X_train_raw = train_data.drop(['target', 'id'], axis=1)\n",
    "\n",
    "    # no dropping raw data -> np array\n",
    "    X_train_raw_arr = X_train_raw.values\n",
    "    y_train_arr = y_train.values\n",
    "    \n",
    "    # drop features -> np array\n",
    "    to_drop_features = select_same_resp_feature(X_train_raw)\n",
    "    X_train_drop = X_train_raw.drop(to_drop_features, axis=1)\n",
    "    X_train_drop_arr = X_train_drop.values\n",
    "    \n",
    "    return X_train_raw_arr, y_train_arr, X_train_drop_arr, to_drop_features\n",
    "\n",
    "def test_data_preprocessing(filename, to_drop_features):\n",
    "    test_data = read_file(filename)\n",
    "    X_test_raw = test_data.drop(['id'], axis=1)\n",
    "    X_test_raw_arr = X_test_raw.values\n",
    "\n",
    "    X_test_drop = X_test_raw.drop(to_drop_features, axis=1)\n",
    "    X_test_drop_arr = X_test_drop.values\n",
    "    \n",
    "    return X_test_raw_arr, X_test_drop_arr"
   ]
  },
  {
   "cell_type": "code",
   "execution_count": 6,
   "metadata": {},
   "outputs": [],
   "source": [
    "# raw pd.dataframe data\n",
    "train_path = \"train_2008.csv\"\n",
    "test_path = \"test_2008.csv\"\n",
    "train_data = read_file(train_path)\n",
    "test_data = read_file(test_path)\n",
    "\n",
    "y_train = train_data['target']\n",
    "X_train = train_data.drop(['target', 'id'], axis=1)\n",
    "X_test = test_data.drop('id', axis=1)"
   ]
  },
  {
   "cell_type": "code",
   "execution_count": 7,
   "metadata": {},
   "outputs": [
    {
     "name": "stdout",
     "output_type": "stream",
     "text": [
      "15\n",
      "['HRMONTH', 'HRYEAR4', 'HUTYPEA', 'HUTYPC', 'HRINTSTA', 'PEAFNOW', 'PRPERTYP', 'PULKDK4', 'PULKDK5', 'PULKDK6', 'PULKPS4', 'PULKPS5', 'PULKPS6', 'HXPHONEO', 'PXAGE']\n"
     ]
    }
   ],
   "source": [
    "# drop same response features\n",
    "same_resp_feature = select_same_resp_feature(X_train)\n",
    "X_train.drop(same_resp_feature, axis=1, inplace=True)\n",
    "X_test.drop(same_resp_feature, axis=1, inplace=True)\n",
    "print(same_resp_feature)"
   ]
  },
  {
   "cell_type": "code",
   "execution_count": 8,
   "metadata": {},
   "outputs": [],
   "source": [
    "# map negative response to -1\n",
    "for feature in X_train.columns:\n",
    "    X_train[feature] = X_train[feature].apply(lambda x: -1 if x < 0 else x)\n",
    "    X_test[feature] = X_test[feature].apply(lambda x: -1 if x < 0 else x)"
   ]
  },
  {
   "cell_type": "code",
   "execution_count": 9,
   "metadata": {},
   "outputs": [],
   "source": [
    "# categorical features (one-hot encoding)\n",
    "categorical_features = ['HUFINAL','GEREG', 'HUBUS', 'PTDTRACE', 'PENATVTY', 'PUABSOT', 'PEIO1COW', \n",
    "                        'HUFINAL', 'GESTCEN', 'GESTFIPS', 'PRCITSHP', 'PUDIS', 'PRABSREA', 'PRWKSTAT', 'HUPRSCNT', \n",
    "                        'PERRP', 'GTCBSAST', 'PRMJOCGR', 'HRHTYPE', ]\n",
    "train_dummy = pd.DataFrame()\n",
    "test_dummy = pd.DataFrame()\n",
    "for feature in categorical_features:\n",
    "    train_dummy_tmp = pd.get_dummies(X_train[feature], prefix=feature)\n",
    "    train_dummy = pd.concat([train_dummy, train_dummy_tmp], axis=1)\n",
    "    test_dummy_tmp = pd.get_dummies(X_test[feature], prefix=feature)\n",
    "    test_dummy = pd.concat([test_dummy, test_dummy_tmp], axis=1)\n",
    "X_train.drop(categorical_features, axis=1, inplace=True)\n",
    "X_test.drop(categorical_features, axis=1, inplace=True)\n",
    "X_train = pd.concat([X_train, train_dummy], axis=1)\n",
    "X_test = pd.concat([X_test, test_dummy], axis=1)"
   ]
  },
  {
   "cell_type": "code",
   "execution_count": 10,
   "metadata": {},
   "outputs": [],
   "source": [
    "train_add_features = [f for f in X_test.columns if f not in X_train.columns]\n",
    "test_add_features = [f for f in X_train.columns if f not in X_test.columns]\n",
    "\n",
    "for feature in train_add_features:\n",
    "    X_train[feature] = 0\n",
    "for feature in test_add_features:\n",
    "    X_test[feature] = 0"
   ]
  },
  {
   "cell_type": "code",
   "execution_count": 11,
   "metadata": {},
   "outputs": [
    {
     "name": "stdout",
     "output_type": "stream",
     "text": [
      "(64667, 749)\n",
      "(64667,)\n",
      "(16000, 749)\n"
     ]
    }
   ],
   "source": [
    "X = X_train.values\n",
    "Y = y_train.values\n",
    "X_t = X_test.values\n",
    "print(X.shape)\n",
    "print(Y.shape)\n",
    "print(X_t.shape)"
   ]
  },
  {
   "cell_type": "code",
   "execution_count": 12,
   "metadata": {},
   "outputs": [],
   "source": [
    "def cross_validation(X, num_folds, clf):\n",
    "    kf = model_selection.KFold(n_splits=num_folds)\n",
    "    train_auc_ls = []\n",
    "    valid_auc_ls = []\n",
    "    for train_index, valid_index in kf.split(X):\n",
    "        print(\"1...\")\n",
    "        print(\"TRAIN:\", train_index, \"VALIDATION:\", valid_index)\n",
    "        X_train, X_valid = X[train_index], X[valid_index]\n",
    "        y_train, y_valid = Y[train_index], Y[valid_index]\n",
    "        clf.fit(X_train, y_train)\n",
    "        y_train_pred = clf.predict_proba(X_train)[:, 1]\n",
    "        y_valid_pred = clf.predict_proba(X_valid)[:, 1]\n",
    "        train_auc = metrics.roc_auc_score(y_train, y_train_pred)\n",
    "        valid_auc = metrics.roc_auc_score(y_valid, y_valid_pred)\n",
    "        train_auc_ls.append(train_auc)\n",
    "        valid_auc_ls.append(valid_auc)\n",
    "        print(\"2...\")\n",
    "    return train_auc_ls, valid_auc_ls, clf"
   ]
  },
  {
   "cell_type": "code",
   "execution_count": 13,
   "metadata": {},
   "outputs": [],
   "source": [
    "# logistic regression\n",
    "# raw data for logistic regression\n",
    "# tune the hyperparameter C has little influence\n",
    "# current C =  0.3 , auc =  [0.7663607035376859, 0.7721732996821118, 0.7687268216387099]\n",
    "# current C =  0.475 , auc =  [0.7662418721269123, 0.7712735791351473, 0.768680422577126]\n",
    "# current C =  0.6499999999999999 , auc =  [0.7661768150447318, 0.7713118201969408, 0.7683741910137993]\n",
    "# current C =  0.825 , auc =  [0.7661509304142629, 0.7711936392253098, 0.7682658368117301]\n",
    "# current C =  1.0 , auc =  [0.766072324965325, 0.7707366180248577, 0.7682738111247072]\n",
    "# X_train_raw_arr, y_train_raw_arr, X_train_drop_arr = data_preprocessing(train_path, to_drop_features)\n",
    "# X_test_raw_arr, y_test_raw_arr, X_test_drop_arr = data_preprocessing(test_path, to_drop_features)\n",
    "# num_folds = 3\n",
    "# C_para = np.linspace(0.3, 1, 5)\n",
    "# for C in C_para:\n",
    "#     auc = logistic_reg(X_train_raw_arr, num_folds, C)\n",
    "#     print(\"current C = \", C, \", auc = \", auc)"
   ]
  },
  {
   "cell_type": "code",
   "execution_count": 14,
   "metadata": {},
   "outputs": [
    {
     "name": "stdout",
     "output_type": "stream",
     "text": [
      "[0.2, 0.3, 0.4, 0.5, 0.6]\n",
      "1...\n",
      "TRAIN: [21556 21557 21558 ... 64664 64665 64666] VALIDATION: [    0     1     2 ... 21553 21554 21555]\n",
      "2...\n",
      "1...\n",
      "TRAIN: [    0     1     2 ... 64664 64665 64666] VALIDATION: [21556 21557 21558 ... 43109 43110 43111]\n",
      "2...\n",
      "1...\n",
      "TRAIN: [    0     1     2 ... 43109 43110 43111] VALIDATION: [43112 43113 43114 ... 64664 64665 64666]\n",
      "2...\n",
      "1...\n",
      "TRAIN: [21556 21557 21558 ... 64664 64665 64666] VALIDATION: [    0     1     2 ... 21553 21554 21555]\n",
      "2...\n",
      "1...\n",
      "TRAIN: [    0     1     2 ... 64664 64665 64666] VALIDATION: [21556 21557 21558 ... 43109 43110 43111]\n",
      "2...\n",
      "1...\n",
      "TRAIN: [    0     1     2 ... 43109 43110 43111] VALIDATION: [43112 43113 43114 ... 64664 64665 64666]\n",
      "2...\n",
      "1...\n",
      "TRAIN: [21556 21557 21558 ... 64664 64665 64666] VALIDATION: [    0     1     2 ... 21553 21554 21555]\n",
      "2...\n",
      "1...\n",
      "TRAIN: [    0     1     2 ... 64664 64665 64666] VALIDATION: [21556 21557 21558 ... 43109 43110 43111]\n",
      "2...\n",
      "1...\n",
      "TRAIN: [    0     1     2 ... 43109 43110 43111] VALIDATION: [43112 43113 43114 ... 64664 64665 64666]\n",
      "2...\n",
      "1...\n",
      "TRAIN: [21556 21557 21558 ... 64664 64665 64666] VALIDATION: [    0     1     2 ... 21553 21554 21555]\n",
      "2...\n",
      "1...\n",
      "TRAIN: [    0     1     2 ... 64664 64665 64666] VALIDATION: [21556 21557 21558 ... 43109 43110 43111]\n",
      "2...\n",
      "1...\n",
      "TRAIN: [    0     1     2 ... 43109 43110 43111] VALIDATION: [43112 43113 43114 ... 64664 64665 64666]\n",
      "2...\n",
      "1...\n",
      "TRAIN: [21556 21557 21558 ... 64664 64665 64666] VALIDATION: [    0     1     2 ... 21553 21554 21555]\n",
      "2...\n",
      "1...\n",
      "TRAIN: [    0     1     2 ... 64664 64665 64666] VALIDATION: [21556 21557 21558 ... 43109 43110 43111]\n",
      "2...\n",
      "1...\n",
      "TRAIN: [    0     1     2 ... 43109 43110 43111] VALIDATION: [43112 43113 43114 ... 64664 64665 64666]\n",
      "2...\n"
     ]
    }
   ],
   "source": [
    "# run logistic regression\n",
    "num_folds = 3\n",
    "#C = 0.3\n",
    "C_values = [0.2, 0.3, 0.4, 0.5, 0.6]\n",
    "print(C_values)\n",
    "valid_auc = []\n",
    "for C in C_values:\n",
    "    clf = linear_model.LogisticRegression(penalty='l1', C=C, solver='liblinear')\n",
    "    train_auc_ls, valid_auc_ls, clf = cross_validation(X, num_folds, clf)\n",
    "    valid_auc.append(np.mean(valid_auc_ls))"
   ]
  },
  {
   "cell_type": "code",
   "execution_count": 15,
   "metadata": {},
   "outputs": [
    {
     "data": {
      "image/png": "[encoded data removed]",
      "text/plain": [
       "<Figure size 432x288 with 1 Axes>"
      ]
     },
     "metadata": {
      "needs_background": "light"
     },
     "output_type": "display_data"
    }
   ],
   "source": [
    "plt.figure()\n",
    "plt.plot(C_values, valid_auc)\n",
    "plt.xlabel(\"regularization\")\n",
    "plt.ylabel(\"valid auc score\")\n",
    "plt.show()"
   ]
  },
  {
   "cell_type": "code",
   "execution_count": 16,
   "metadata": {},
   "outputs": [
    {
     "name": "stdout",
     "output_type": "stream",
     "text": [
      "1...\n",
      "TRAIN: [12934 12935 12936 ... 64664 64665 64666] VALIDATION: [    0     1     2 ... 12931 12932 12933]\n",
      "2...\n",
      "1...\n",
      "TRAIN: [    0     1     2 ... 64664 64665 64666] VALIDATION: [12934 12935 12936 ... 25865 25866 25867]\n",
      "2...\n",
      "1...\n",
      "TRAIN: [    0     1     2 ... 64664 64665 64666] VALIDATION: [25868 25869 25870 ... 38798 38799 38800]\n",
      "2...\n",
      "1...\n",
      "TRAIN: [    0     1     2 ... 64664 64665 64666] VALIDATION: [38801 38802 38803 ... 51731 51732 51733]\n",
      "2...\n",
      "1...\n",
      "TRAIN: [    0     1     2 ... 51731 51732 51733] VALIDATION: [51734 51735 51736 ... 64664 64665 64666]\n",
      "2...\n",
      "1...\n",
      "TRAIN: [12934 12935 12936 ... 64664 64665 64666] VALIDATION: [    0     1     2 ... 12931 12932 12933]\n",
      "2...\n",
      "1...\n",
      "TRAIN: [    0     1     2 ... 64664 64665 64666] VALIDATION: [12934 12935 12936 ... 25865 25866 25867]\n",
      "2...\n",
      "1...\n",
      "TRAIN: [    0     1     2 ... 64664 64665 64666] VALIDATION: [25868 25869 25870 ... 38798 38799 38800]\n",
      "2...\n",
      "1...\n",
      "TRAIN: [    0     1     2 ... 64664 64665 64666] VALIDATION: [38801 38802 38803 ... 51731 51732 51733]\n",
      "2...\n",
      "1...\n",
      "TRAIN: [    0     1     2 ... 51731 51732 51733] VALIDATION: [51734 51735 51736 ... 64664 64665 64666]\n",
      "2...\n",
      "1...\n",
      "TRAIN: [12934 12935 12936 ... 64664 64665 64666] VALIDATION: [    0     1     2 ... 12931 12932 12933]\n",
      "2...\n",
      "1...\n",
      "TRAIN: [    0     1     2 ... 64664 64665 64666] VALIDATION: [12934 12935 12936 ... 25865 25866 25867]\n",
      "2...\n",
      "1...\n",
      "TRAIN: [    0     1     2 ... 64664 64665 64666] VALIDATION: [25868 25869 25870 ... 38798 38799 38800]\n",
      "2...\n",
      "1...\n",
      "TRAIN: [    0     1     2 ... 64664 64665 64666] VALIDATION: [38801 38802 38803 ... 51731 51732 51733]\n",
      "2...\n",
      "1...\n",
      "TRAIN: [    0     1     2 ... 51731 51732 51733] VALIDATION: [51734 51735 51736 ... 64664 64665 64666]\n",
      "2...\n",
      "1...\n",
      "TRAIN: [12934 12935 12936 ... 64664 64665 64666] VALIDATION: [    0     1     2 ... 12931 12932 12933]\n",
      "2...\n",
      "1...\n",
      "TRAIN: [    0     1     2 ... 64664 64665 64666] VALIDATION: [12934 12935 12936 ... 25865 25866 25867]\n",
      "2...\n",
      "1...\n",
      "TRAIN: [    0     1     2 ... 64664 64665 64666] VALIDATION: [25868 25869 25870 ... 38798 38799 38800]\n",
      "2...\n",
      "1...\n",
      "TRAIN: [    0     1     2 ... 64664 64665 64666] VALIDATION: [38801 38802 38803 ... 51731 51732 51733]\n",
      "2...\n",
      "1...\n",
      "TRAIN: [    0     1     2 ... 51731 51732 51733] VALIDATION: [51734 51735 51736 ... 64664 64665 64666]\n",
      "2...\n",
      "1...\n",
      "TRAIN: [12934 12935 12936 ... 64664 64665 64666] VALIDATION: [    0     1     2 ... 12931 12932 12933]\n",
      "2...\n",
      "1...\n",
      "TRAIN: [    0     1     2 ... 64664 64665 64666] VALIDATION: [12934 12935 12936 ... 25865 25866 25867]\n",
      "2...\n",
      "1...\n",
      "TRAIN: [    0     1     2 ... 64664 64665 64666] VALIDATION: [25868 25869 25870 ... 38798 38799 38800]\n",
      "2...\n",
      "1...\n",
      "TRAIN: [    0     1     2 ... 64664 64665 64666] VALIDATION: [38801 38802 38803 ... 51731 51732 51733]\n",
      "2...\n",
      "1...\n",
      "TRAIN: [    0     1     2 ... 51731 51732 51733] VALIDATION: [51734 51735 51736 ... 64664 64665 64666]\n",
      "2...\n",
      "1...\n",
      "TRAIN: [12934 12935 12936 ... 64664 64665 64666] VALIDATION: [    0     1     2 ... 12931 12932 12933]\n",
      "2...\n",
      "1...\n",
      "TRAIN: [    0     1     2 ... 64664 64665 64666] VALIDATION: [12934 12935 12936 ... 25865 25866 25867]\n",
      "2...\n",
      "1...\n",
      "TRAIN: [    0     1     2 ... 64664 64665 64666] VALIDATION: [25868 25869 25870 ... 38798 38799 38800]\n",
      "2...\n",
      "1...\n",
      "TRAIN: [    0     1     2 ... 64664 64665 64666] VALIDATION: [38801 38802 38803 ... 51731 51732 51733]\n",
      "2...\n",
      "1...\n",
      "TRAIN: [    0     1     2 ... 51731 51732 51733] VALIDATION: [51734 51735 51736 ... 64664 64665 64666]\n",
      "2...\n",
      "1...\n",
      "TRAIN: [12934 12935 12936 ... 64664 64665 64666] VALIDATION: [    0     1     2 ... 12931 12932 12933]\n",
      "2...\n",
      "1...\n",
      "TRAIN: [    0     1     2 ... 64664 64665 64666] VALIDATION: [12934 12935 12936 ... 25865 25866 25867]\n",
      "2...\n",
      "1...\n",
      "TRAIN: [    0     1     2 ... 64664 64665 64666] VALIDATION: [25868 25869 25870 ... 38798 38799 38800]\n",
      "2...\n",
      "1...\n",
      "TRAIN: [    0     1     2 ... 64664 64665 64666] VALIDATION: [38801 38802 38803 ... 51731 51732 51733]\n",
      "2...\n",
      "1...\n",
      "TRAIN: [    0     1     2 ... 51731 51732 51733] VALIDATION: [51734 51735 51736 ... 64664 64665 64666]\n",
      "2...\n"
     ]
    }
   ],
   "source": [
    "# run gbdt\n",
    "num_folds = 5\n",
    "num_estimators = range(30, 100, 10)\n",
    "valid_auc = []\n",
    "for num in num_estimators:\n",
    "    clf = ensemble.GradientBoostingClassifier(n_estimators=num, random_state=10, min_samples_leaf=20) \n",
    "    train_auc_ls, valid_auc_ls, clf = cross_validation(X, num_folds, clf)\n",
    "    valid_auc.append(np.mean(valid_auc_ls))"
   ]
  },
  {
   "cell_type": "code",
   "execution_count": 17,
   "metadata": {},
   "outputs": [
    {
     "data": {
      "image/png": "[encoded data removed]",
      "text/plain": [
       "<Figure size 432x288 with 1 Axes>"
      ]
     },
     "metadata": {
      "needs_background": "light"
     },
     "output_type": "display_data"
    }
   ],
   "source": [
    "plt.figure()\n",
    "plt.plot(num_estimators, valid_auc)\n",
    "plt.xlabel(\"number of estimators\")\n",
    "plt.ylabel(\"test auc score\")\n",
    "plt.show()"
   ]
  },
  {
   "cell_type": "code",
   "execution_count": null,
   "metadata": {},
   "outputs": [],
   "source": []
  }
 ],
 "metadata": {
  "kernelspec": {
   "display_name": "Python 3",
   "language": "python",
   "name": "python3"
  },
  "language_info": {
   "codemirror_mode": {
    "name": "ipython",
    "version": 3
   },
   "file_extension": ".py",
   "mimetype": "text/x-python",
   "name": "python",
   "nbconvert_exporter": "python",
   "pygments_lexer": "ipython3",
   "version": "3.6.8"
  }
 },
 "nbformat": 4,
 "nbformat_minor": 2
}
