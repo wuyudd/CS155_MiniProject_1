{
 "cells": [
  {
   "cell_type": "code",
   "execution_count": 1,
   "metadata": {},
   "outputs": [],
   "source": [
    "import csv\n",
    "import numpy as np\n",
    "import pandas as pd\n",
    "import matplotlib.pyplot as plt\n",
    "from sklearn import linear_model, metrics, ensemble\n",
    "from sklearn import model_selection\n",
    "from xgboost import XGBClassifier\n",
    "import os\n",
    "\n",
    "os.environ['KMP_DUPLICATE_LIB_OK']='True'"
   ]
  },
  {
   "cell_type": "code",
   "execution_count": 2,
   "metadata": {},
   "outputs": [],
   "source": [
    "def read_file(filename):\n",
    "    raw_data = pd.read_csv(filename)\n",
    "    data = raw_data.copy()\n",
    "    return data"
   ]
  },
  {
   "cell_type": "code",
   "execution_count": 3,
   "metadata": {},
   "outputs": [],
   "source": [
    "# read in train and test data -> X_train, y_train, X_test (pd.df)\n",
    "train_path = \"train_2008.csv\"\n",
    "test_path = \"test_2008.csv\"\n",
    "train_data = read_file(train_path)\n",
    "test_data = read_file(test_path)\n",
    "\n",
    "y_train = train_data['target']\n",
    "X_train = train_data.drop('target', axis=1)\n",
    "X_test = test_data"
   ]
  },
  {
   "cell_type": "code",
   "execution_count": 4,
   "metadata": {},
   "outputs": [
    {
     "name": "stdout",
     "output_type": "stream",
     "text": [
      "15\n",
      "['HRMONTH', 'HRYEAR4', 'HUTYPEA', 'HUTYPC', 'HRINTSTA', 'PEAFNOW', 'PRPERTYP', 'PULKDK4', 'PULKDK5', 'PULKDK6', 'PULKPS4', 'PULKPS5', 'PULKPS6', 'HXPHONEO', 'PXAGE']\n"
     ]
    }
   ],
   "source": [
    "# drop same_resp feature\n",
    "def select_same_resp_feature(X_train):\n",
    "    same_resp_feature = []\n",
    "    for feature in X_train.columns:\n",
    "        if len(np.unique(X_train[feature])) == 1:\n",
    "            same_resp_feature.append(feature)\n",
    "    return same_resp_feature\n",
    "\n",
    "same_resp_feature = select_same_resp_feature(X_train)\n",
    "X_train.drop(same_resp_feature, axis=1, inplace=True)\n",
    "X_test.drop(same_resp_feature, axis=1, inplace=True)\n",
    "print(len(same_resp_feature))\n",
    "print(same_resp_feature)"
   ]
  },
  {
   "cell_type": "code",
   "execution_count": 5,
   "metadata": {},
   "outputs": [
    {
     "name": "stdout",
     "output_type": "stream",
     "text": [
      "58\n"
     ]
    }
   ],
   "source": [
    "# drop low resp features\n",
    "response_rates = X_train[X_train >= 0].count() / len(X_train)\n",
    "mostly_blank_feats = []\n",
    "for itm in response_rates.items():\n",
    "    if itm[1] < 0.01:\n",
    "#         X_train[feature] = X_train[feature].apply(lambda x: np.NaN if (x == -1) else x)\n",
    "#         X_test[feature] = X_test[feature].apply(lambda x: np.NaN if (x == -1) else x)\n",
    "        mostly_blank_feats.append(itm[0])\n",
    "print(len(mostly_blank_feats))\n",
    "\n",
    "X_train.drop(mostly_blank_feats, axis=1, inplace=True)\n",
    "X_test.drop(mostly_blank_feats, axis=1, inplace=True)"
   ]
  },
  {
   "cell_type": "code",
   "execution_count": 6,
   "metadata": {},
   "outputs": [
    {
     "name": "stdout",
     "output_type": "stream",
     "text": [
      "<class 'pandas.core.series.Series'>\n",
      "<class 'pandas.core.series.Series'>\n",
      "<class 'pandas.core.series.Series'>\n",
      "<class 'pandas.core.series.Series'>\n",
      "<class 'pandas.core.series.Series'>\n",
      "<class 'pandas.core.series.Series'>\n",
      "<class 'pandas.core.series.Series'>\n",
      "<class 'pandas.core.series.Series'>\n",
      "<class 'pandas.core.series.Series'>\n",
      "<class 'pandas.core.series.Series'>\n",
      "<class 'pandas.core.series.Series'>\n",
      "<class 'pandas.core.series.Series'>\n",
      "<class 'pandas.core.series.Series'>\n",
      "<class 'pandas.core.series.Series'>\n",
      "<class 'pandas.core.series.Series'>\n",
      "<class 'pandas.core.series.Series'>\n",
      "<class 'pandas.core.series.Series'>\n",
      "<class 'pandas.core.series.Series'>\n",
      "<class 'pandas.core.series.Series'>\n",
      "<class 'pandas.core.series.Series'>\n",
      "<class 'pandas.core.series.Series'>\n",
      "<class 'pandas.core.series.Series'>\n",
      "<class 'pandas.core.series.Series'>\n",
      "<class 'pandas.core.series.Series'>\n",
      "<class 'pandas.core.series.Series'>\n",
      "<class 'pandas.core.series.Series'>\n",
      "<class 'pandas.core.series.Series'>\n",
      "<class 'pandas.core.series.Series'>\n",
      "<class 'pandas.core.series.Series'>\n",
      "<class 'pandas.core.series.Series'>\n",
      "<class 'pandas.core.series.Series'>\n",
      "<class 'pandas.core.series.Series'>\n",
      "<class 'pandas.core.series.Series'>\n",
      "<class 'pandas.core.series.Series'>\n",
      "<class 'pandas.core.series.Series'>\n",
      "<class 'pandas.core.series.Series'>\n",
      "<class 'pandas.core.series.Series'>\n",
      "<class 'pandas.core.series.Series'>\n",
      "<class 'pandas.core.series.Series'>\n",
      "<class 'pandas.core.series.Series'>\n",
      "<class 'pandas.core.series.Series'>\n",
      "<class 'pandas.core.series.Series'>\n",
      "<class 'pandas.core.series.Series'>\n",
      "<class 'pandas.core.series.Series'>\n",
      "<class 'pandas.core.series.Series'>\n",
      "<class 'pandas.core.series.Series'>\n",
      "<class 'pandas.core.series.Series'>\n",
      "<class 'pandas.core.series.Series'>\n",
      "<class 'pandas.core.series.Series'>\n",
      "<class 'pandas.core.series.Series'>\n",
      "<class 'pandas.core.series.Series'>\n",
      "<class 'pandas.core.series.Series'>\n",
      "<class 'pandas.core.series.Series'>\n",
      "<class 'pandas.core.series.Series'>\n",
      "<class 'pandas.core.series.Series'>\n",
      "<class 'pandas.core.series.Series'>\n",
      "<class 'pandas.core.series.Series'>\n",
      "<class 'pandas.core.series.Series'>\n",
      "<class 'pandas.core.series.Series'>\n",
      "<class 'pandas.core.series.Series'>\n",
      "<class 'pandas.core.series.Series'>\n",
      "<class 'pandas.core.series.Series'>\n",
      "<class 'pandas.core.series.Series'>\n",
      "<class 'pandas.core.series.Series'>\n",
      "<class 'pandas.core.series.Series'>\n",
      "<class 'pandas.core.series.Series'>\n",
      "<class 'pandas.core.series.Series'>\n",
      "<class 'pandas.core.series.Series'>\n",
      "<class 'pandas.core.series.Series'>\n",
      "<class 'pandas.core.series.Series'>\n",
      "<class 'pandas.core.series.Series'>\n",
      "<class 'pandas.core.series.Series'>\n",
      "<class 'pandas.core.series.Series'>\n",
      "<class 'pandas.core.series.Series'>\n",
      "<class 'pandas.core.series.Series'>\n",
      "<class 'pandas.core.series.Series'>\n",
      "<class 'pandas.core.series.Series'>\n",
      "<class 'pandas.core.series.Series'>\n",
      "<class 'pandas.core.series.Series'>\n",
      "<class 'pandas.core.series.Series'>\n",
      "<class 'pandas.core.series.Series'>\n",
      "<class 'pandas.core.series.Series'>\n",
      "<class 'pandas.core.series.Series'>\n",
      "<class 'pandas.core.series.Series'>\n",
      "<class 'pandas.core.series.Series'>\n",
      "<class 'pandas.core.series.Series'>\n",
      "<class 'pandas.core.series.Series'>\n",
      "<class 'pandas.core.series.Series'>\n",
      "<class 'pandas.core.series.Series'>\n",
      "<class 'pandas.core.series.Series'>\n",
      "<class 'pandas.core.series.Series'>\n",
      "<class 'pandas.core.series.Series'>\n",
      "<class 'pandas.core.series.Series'>\n",
      "<class 'pandas.core.series.Series'>\n",
      "<class 'pandas.core.series.Series'>\n",
      "<class 'pandas.core.series.Series'>\n",
      "<class 'pandas.core.series.Series'>\n",
      "<class 'pandas.core.series.Series'>\n",
      "<class 'pandas.core.series.Series'>\n",
      "<class 'pandas.core.series.Series'>\n",
      "<class 'pandas.core.series.Series'>\n",
      "<class 'pandas.core.series.Series'>\n",
      "<class 'pandas.core.series.Series'>\n",
      "<class 'pandas.core.series.Series'>\n",
      "<class 'pandas.core.series.Series'>\n",
      "<class 'pandas.core.series.Series'>\n",
      "<class 'pandas.core.series.Series'>\n",
      "<class 'pandas.core.series.Series'>\n",
      "<class 'pandas.core.series.Series'>\n",
      "<class 'pandas.core.series.Series'>\n",
      "<class 'pandas.core.series.Series'>\n",
      "<class 'pandas.core.series.Series'>\n",
      "<class 'pandas.core.series.Series'>\n",
      "<class 'pandas.core.series.Series'>\n",
      "<class 'pandas.core.series.Series'>\n",
      "<class 'pandas.core.series.Series'>\n",
      "<class 'pandas.core.series.Series'>\n",
      "<class 'pandas.core.series.Series'>\n",
      "<class 'pandas.core.series.Series'>\n",
      "<class 'pandas.core.series.Series'>\n",
      "<class 'pandas.core.series.Series'>\n",
      "<class 'pandas.core.series.Series'>\n",
      "<class 'pandas.core.series.Series'>\n",
      "<class 'pandas.core.series.Series'>\n",
      "<class 'pandas.core.series.Series'>\n",
      "<class 'pandas.core.series.Series'>\n",
      "<class 'pandas.core.series.Series'>\n",
      "<class 'pandas.core.series.Series'>\n",
      "<class 'pandas.core.series.Series'>\n",
      "<class 'pandas.core.series.Series'>\n",
      "<class 'pandas.core.series.Series'>\n",
      "<class 'pandas.core.series.Series'>\n",
      "<class 'pandas.core.series.Series'>\n",
      "<class 'pandas.core.series.Series'>\n",
      "<class 'pandas.core.series.Series'>\n",
      "<class 'pandas.core.series.Series'>\n",
      "<class 'pandas.core.series.Series'>\n",
      "<class 'pandas.core.series.Series'>\n",
      "<class 'pandas.core.series.Series'>\n",
      "<class 'pandas.core.series.Series'>\n",
      "<class 'pandas.core.series.Series'>\n",
      "<class 'pandas.core.series.Series'>\n",
      "<class 'pandas.core.series.Series'>\n",
      "<class 'pandas.core.series.Series'>\n",
      "<class 'pandas.core.series.Series'>\n",
      "<class 'pandas.core.series.Series'>\n",
      "<class 'pandas.core.series.Series'>\n",
      "<class 'pandas.core.series.Series'>\n",
      "<class 'pandas.core.series.Series'>\n",
      "<class 'pandas.core.series.Series'>\n",
      "<class 'pandas.core.series.Series'>\n",
      "<class 'pandas.core.series.Series'>\n",
      "<class 'pandas.core.series.Series'>\n",
      "<class 'pandas.core.series.Series'>\n",
      "<class 'pandas.core.series.Series'>\n",
      "<class 'pandas.core.series.Series'>\n",
      "<class 'pandas.core.series.Series'>\n",
      "<class 'pandas.core.series.Series'>\n",
      "<class 'pandas.core.series.Series'>\n",
      "<class 'pandas.core.series.Series'>\n",
      "<class 'pandas.core.series.Series'>\n",
      "<class 'pandas.core.series.Series'>\n",
      "<class 'pandas.core.series.Series'>\n",
      "<class 'pandas.core.series.Series'>\n",
      "<class 'pandas.core.series.Series'>\n",
      "<class 'pandas.core.series.Series'>\n",
      "<class 'pandas.core.series.Series'>\n",
      "<class 'pandas.core.series.Series'>\n",
      "<class 'pandas.core.series.Series'>\n",
      "<class 'pandas.core.series.Series'>\n",
      "<class 'pandas.core.series.Series'>\n",
      "<class 'pandas.core.series.Series'>\n",
      "<class 'pandas.core.series.Series'>\n",
      "<class 'pandas.core.series.Series'>\n",
      "<class 'pandas.core.series.Series'>\n",
      "<class 'pandas.core.series.Series'>\n",
      "<class 'pandas.core.series.Series'>\n",
      "<class 'pandas.core.series.Series'>\n",
      "<class 'pandas.core.series.Series'>\n",
      "<class 'pandas.core.series.Series'>\n",
      "<class 'pandas.core.series.Series'>\n",
      "<class 'pandas.core.series.Series'>\n",
      "<class 'pandas.core.series.Series'>\n",
      "<class 'pandas.core.series.Series'>\n",
      "<class 'pandas.core.series.Series'>\n",
      "<class 'pandas.core.series.Series'>\n",
      "<class 'pandas.core.series.Series'>\n",
      "<class 'pandas.core.series.Series'>\n",
      "<class 'pandas.core.series.Series'>\n",
      "<class 'pandas.core.series.Series'>\n",
      "<class 'pandas.core.series.Series'>\n",
      "<class 'pandas.core.series.Series'>\n",
      "<class 'pandas.core.series.Series'>\n",
      "<class 'pandas.core.series.Series'>\n",
      "<class 'pandas.core.series.Series'>\n",
      "<class 'pandas.core.series.Series'>\n",
      "<class 'pandas.core.series.Series'>\n",
      "<class 'pandas.core.series.Series'>\n",
      "<class 'pandas.core.series.Series'>\n",
      "<class 'pandas.core.series.Series'>\n",
      "<class 'pandas.core.series.Series'>\n",
      "<class 'pandas.core.series.Series'>\n",
      "<class 'pandas.core.series.Series'>\n",
      "<class 'pandas.core.series.Series'>\n",
      "<class 'pandas.core.series.Series'>\n",
      "<class 'pandas.core.series.Series'>\n",
      "<class 'pandas.core.series.Series'>\n",
      "<class 'pandas.core.series.Series'>\n",
      "<class 'pandas.core.series.Series'>\n",
      "<class 'pandas.core.series.Series'>\n",
      "<class 'pandas.core.series.Series'>\n",
      "<class 'pandas.core.series.Series'>\n",
      "<class 'pandas.core.series.Series'>\n",
      "<class 'pandas.core.series.Series'>\n",
      "<class 'pandas.core.series.Series'>\n",
      "<class 'pandas.core.series.Series'>\n",
      "<class 'pandas.core.series.Series'>\n",
      "<class 'pandas.core.series.Series'>\n",
      "<class 'pandas.core.series.Series'>\n",
      "<class 'pandas.core.series.Series'>\n",
      "<class 'pandas.core.series.Series'>\n",
      "<class 'pandas.core.series.Series'>\n",
      "<class 'pandas.core.series.Series'>\n",
      "<class 'pandas.core.series.Series'>\n",
      "<class 'pandas.core.series.Series'>\n",
      "<class 'pandas.core.series.Series'>\n",
      "<class 'pandas.core.series.Series'>\n",
      "<class 'pandas.core.series.Series'>\n",
      "<class 'pandas.core.series.Series'>\n",
      "<class 'pandas.core.series.Series'>\n",
      "<class 'pandas.core.series.Series'>\n",
      "<class 'pandas.core.series.Series'>\n",
      "<class 'pandas.core.series.Series'>\n",
      "<class 'pandas.core.series.Series'>\n",
      "<class 'pandas.core.series.Series'>\n",
      "<class 'pandas.core.series.Series'>\n",
      "<class 'pandas.core.series.Series'>\n",
      "<class 'pandas.core.series.Series'>\n",
      "<class 'pandas.core.series.Series'>\n",
      "<class 'pandas.core.series.Series'>\n",
      "<class 'pandas.core.series.Series'>\n",
      "<class 'pandas.core.series.Series'>\n",
      "<class 'pandas.core.series.Series'>\n",
      "<class 'pandas.core.series.Series'>\n",
      "<class 'pandas.core.series.Series'>\n",
      "<class 'pandas.core.series.Series'>\n"
     ]
    },
    {
     "name": "stdout",
     "output_type": "stream",
     "text": [
      "<class 'pandas.core.series.Series'>\n",
      "<class 'pandas.core.series.Series'>\n",
      "<class 'pandas.core.series.Series'>\n",
      "<class 'pandas.core.series.Series'>\n",
      "<class 'pandas.core.series.Series'>\n",
      "<class 'pandas.core.series.Series'>\n",
      "<class 'pandas.core.series.Series'>\n",
      "<class 'pandas.core.series.Series'>\n",
      "<class 'pandas.core.series.Series'>\n",
      "<class 'pandas.core.series.Series'>\n",
      "<class 'pandas.core.series.Series'>\n",
      "<class 'pandas.core.series.Series'>\n",
      "<class 'pandas.core.series.Series'>\n",
      "<class 'pandas.core.series.Series'>\n",
      "<class 'pandas.core.series.Series'>\n",
      "<class 'pandas.core.series.Series'>\n",
      "<class 'pandas.core.series.Series'>\n",
      "<class 'pandas.core.series.Series'>\n",
      "<class 'pandas.core.series.Series'>\n",
      "<class 'pandas.core.series.Series'>\n",
      "<class 'pandas.core.series.Series'>\n",
      "<class 'pandas.core.series.Series'>\n",
      "<class 'pandas.core.series.Series'>\n",
      "<class 'pandas.core.series.Series'>\n",
      "<class 'pandas.core.series.Series'>\n",
      "<class 'pandas.core.series.Series'>\n",
      "<class 'pandas.core.series.Series'>\n",
      "<class 'pandas.core.series.Series'>\n",
      "<class 'pandas.core.series.Series'>\n",
      "<class 'pandas.core.series.Series'>\n",
      "<class 'pandas.core.series.Series'>\n",
      "<class 'pandas.core.series.Series'>\n",
      "<class 'pandas.core.series.Series'>\n",
      "<class 'pandas.core.series.Series'>\n",
      "<class 'pandas.core.series.Series'>\n",
      "<class 'pandas.core.series.Series'>\n",
      "<class 'pandas.core.series.Series'>\n",
      "<class 'pandas.core.series.Series'>\n",
      "<class 'pandas.core.series.Series'>\n",
      "<class 'pandas.core.series.Series'>\n",
      "<class 'pandas.core.series.Series'>\n",
      "<class 'pandas.core.series.Series'>\n",
      "<class 'pandas.core.series.Series'>\n",
      "<class 'pandas.core.series.Series'>\n",
      "<class 'pandas.core.series.Series'>\n",
      "<class 'pandas.core.series.Series'>\n",
      "<class 'pandas.core.series.Series'>\n",
      "<class 'pandas.core.series.Series'>\n",
      "<class 'pandas.core.series.Series'>\n",
      "<class 'pandas.core.series.Series'>\n",
      "<class 'pandas.core.series.Series'>\n",
      "<class 'pandas.core.series.Series'>\n",
      "<class 'pandas.core.series.Series'>\n",
      "<class 'pandas.core.series.Series'>\n",
      "<class 'pandas.core.series.Series'>\n",
      "<class 'pandas.core.series.Series'>\n",
      "<class 'pandas.core.series.Series'>\n",
      "<class 'pandas.core.series.Series'>\n",
      "<class 'pandas.core.series.Series'>\n",
      "<class 'pandas.core.series.Series'>\n",
      "<class 'pandas.core.series.Series'>\n",
      "<class 'pandas.core.series.Series'>\n",
      "<class 'pandas.core.series.Series'>\n"
     ]
    }
   ],
   "source": [
    "# encode\n",
    "# s = X_train['HUFINAL']\n",
    "# out = s.value_counts(normalize=True)\n",
    "# print(out)\n",
    "# print(type(out))\n",
    "# out.max() > 0.9\n",
    "# maxx = out.idxmax()\n",
    "# X_train['HUFINAL']= X_train['HUFINAL'].apply(lambda x: 1 if (x == maxx) else 0)\n",
    "# print(X_train['HUFINAL'].values[:10])\n",
    "\n",
    "# recode\n",
    "for i in X_train.columns:\n",
    "    cols = X_train[i]\n",
    "    print(type(cols))\n",
    "    #print(cols)\n",
    "    freq_out = cols.value_counts(normalize=True)\n",
    "    if freq_out.max() > 0.95:\n",
    "        max_idx = freq_out.idxmax()\n",
    "        X_train[i] = X_train[i].apply(lambda x: 1 if (x == max_idx) else 0)\n",
    "        X_test[i] = X_test[i].apply(lambda x: 1 if (x == max_idx) else 0)"
   ]
  },
  {
   "cell_type": "code",
   "execution_count": null,
   "metadata": {},
   "outputs": [],
   "source": [
    "print(X_train.values.shape)"
   ]
  },
  {
   "cell_type": "code",
   "execution_count": 9,
   "metadata": {},
   "outputs": [
    {
     "name": "stdout",
     "output_type": "stream",
     "text": [
      "[[16000     1   201     1     1     1     1     1     1    16]\n",
      " [16001     1   201     1     2     1     1     1     1     6]\n",
      " [16002     1     1     1     1     1     1     1     1    15]\n",
      " [16003     2     1     1     1     1     1     1     1    13]\n",
      " [16004     2   201     1     1     1     1     1     1    -3]\n",
      " [16005     2   201     1     1     0     1     1     1    13]\n",
      " [16006     2   201     1     1     1     1     1     1    -3]\n",
      " [16007     1   201     1     2     1     0     0     1     7]\n",
      " [16008     1   201     1     3     0     1     1     1     1]\n",
      " [16009     1   201     1     1     1     1     1     1    13]]\n"
     ]
    }
   ],
   "source": [
    "print(X_train.values[:10, :10])"
   ]
  },
  {
   "cell_type": "code",
   "execution_count": null,
   "metadata": {},
   "outputs": [],
   "source": []
  },
  {
   "cell_type": "code",
   "execution_count": 7,
   "metadata": {},
   "outputs": [],
   "source": [
    "# negative -> -1\n",
    "for feature in X_train.columns:\n",
    "    X_train[feature] = X_train[feature].apply(lambda x: np.NaN if (x == -1) else x)\n",
    "    X_test[feature] = X_test[feature].apply(lambda x: np.NaN if (x == -1) else x)"
   ]
  },
  {
   "cell_type": "code",
   "execution_count": 8,
   "metadata": {},
   "outputs": [],
   "source": [
    "# encode some features\n",
    "categorical_features = ['HUFINAL','HEHOUSUT','GEREG', 'HUBUS', 'PTDTRACE', 'PENATVTY', 'PUABSOT', 'PEIO1COW', \n",
    "                     'HUFINAL', 'GESTCEN', 'GESTFIPS', #'PEIO1ICD', 'PEIO2ICD', \n",
    "                     'PRCITSHP', 'PUDIS', 'PRABSREA', 'PRWKSTAT', 'HUPRSCNT', \n",
    "                     'PERRP', 'GTCBSAST', 'PRMJOCGR', 'HRHTYPE', ]\n",
    "# Now dummy these features\n",
    "train_dummy_df = pd.DataFrame()\n",
    "test_dummy_df = pd.DataFrame()\n",
    "\n",
    "new_cat = []\n",
    "for feature in categorical_features:\n",
    "    if feature in X_train.columns:\n",
    "        new_cat.append(feature)\n",
    "        train_dummy_vars = pd.get_dummies(X_train[feature], prefix=feature)\n",
    "        train_dummy_df = pd.concat([train_dummy_df, train_dummy_vars], axis=1)\n",
    "\n",
    "        test_dummy_vars = pd.get_dummies(X_test[feature], prefix=feature)\n",
    "        test_dummy_df = pd.concat([test_dummy_df, test_dummy_vars], axis=1)\n",
    "# Drop the original categorical variables\n",
    "X_train.drop(new_cat, axis=1, inplace=True)\n",
    "X_test.drop(new_cat, axis=1, inplace=True)\n",
    "# Add dummy vars to the data\n",
    "X_train = pd.concat([X_train, train_dummy_df], axis=1)\n",
    "X_test = pd.concat([X_test, test_dummy_df], axis=1)\n",
    "\n",
    "# train_test \n",
    "feats_to_add_to_train = [f for f in X_test.columns if f not in X_train.columns]\n",
    "feats_to_add_to_test = [f for f in X_train.columns if f not in X_test.columns]\n",
    "for feat in feats_to_add_to_train:\n",
    "    X_train[feat] = np.nan\n",
    "for feat in feats_to_add_to_test:\n",
    "    X_test[feat] = np.nan"
   ]
  },
  {
   "cell_type": "code",
   "execution_count": 5,
   "metadata": {},
   "outputs": [
    {
     "name": "stdout",
     "output_type": "stream",
     "text": [
      "(64667, 367)\n",
      "(64667,)\n",
      "(16000, 367)\n"
     ]
    }
   ],
   "source": [
    "    \n",
    "X = X_train.values\n",
    "Y = y_train.values\n",
    "X_t = X_test.values\n",
    "print(X.shape)\n",
    "print(Y.shape)\n",
    "print(X_t.shape)"
   ]
  },
  {
   "cell_type": "code",
   "execution_count": 30,
   "metadata": {},
   "outputs": [
    {
     "name": "stdout",
     "output_type": "stream",
     "text": [
      "[[1.6000e+04 1.0000e+00 2.0100e+02 0.0000e+00 1.0000e+00 1.0000e+00\n",
      "  1.0000e+00        nan 1.0000e+00 1.6000e+01]\n",
      " [1.6001e+04 1.0000e+00 2.0100e+02 0.0000e+00 2.0000e+00 1.0000e+00\n",
      "  1.0000e+00        nan 1.0000e+00 6.0000e+00]\n",
      " [1.6002e+04 1.0000e+00 1.0000e+00 0.0000e+00 1.0000e+00 1.0000e+00\n",
      "  1.0000e+00        nan 1.0000e+00 1.5000e+01]\n",
      " [1.6003e+04 2.0000e+00 1.0000e+00 0.0000e+00 1.0000e+00 1.0000e+00\n",
      "  1.0000e+00        nan 1.0000e+00 1.3000e+01]\n",
      " [1.6004e+04 2.0000e+00 2.0100e+02 0.0000e+00 1.0000e+00 1.0000e+00\n",
      "  1.0000e+00        nan 1.0000e+00        nan]\n",
      " [1.6005e+04 2.0000e+00 2.0100e+02 0.0000e+00 1.0000e+00 6.0000e+00\n",
      "  1.0000e+00        nan 1.0000e+00 1.3000e+01]\n",
      " [1.6006e+04 2.0000e+00 2.0100e+02 0.0000e+00 1.0000e+00 1.0000e+00\n",
      "  1.0000e+00        nan 1.0000e+00        nan]\n",
      " [1.6007e+04 1.0000e+00 2.0100e+02 0.0000e+00 2.0000e+00 1.0000e+00\n",
      "  2.0000e+00 2.0000e+00 1.0000e+00 7.0000e+00]\n",
      " [1.6008e+04 1.0000e+00 2.0100e+02 0.0000e+00 3.0000e+00 5.0000e+00\n",
      "  1.0000e+00        nan 1.0000e+00 1.0000e+00]\n",
      " [1.6009e+04 1.0000e+00 2.0100e+02 0.0000e+00 1.0000e+00 1.0000e+00\n",
      "  1.0000e+00        nan 1.0000e+00 1.3000e+01]]\n"
     ]
    }
   ],
   "source": [
    "print(X[:10, :10])"
   ]
  },
  {
   "cell_type": "code",
   "execution_count": 10,
   "metadata": {},
   "outputs": [
    {
     "name": "stdout",
     "output_type": "stream",
     "text": [
      "train auc:  0.8724250633754376\n",
      "test auc:  0.7920151734759794\n"
     ]
    }
   ],
   "source": [
    "test_size = 0.3\n",
    "X_train, X_test, y_train, y_test = model_selection.train_test_split(X, Y, test_size=test_size, random_state=10)\n",
    "clf_xgb = XGBClassifier(max_depth=8, gamma=0.3, subsample=0.7, min_child_weight=2, n_estimators=50, objective='binary:logistic') \n",
    "clf_xgb.fit(X_train, y_train)\n",
    "y_train_pred = clf_xgb.predict_proba(X_train)[:, 1]\n",
    "y_test_pred = clf_xgb.predict_proba(X_test)[:, 1]\n",
    "\n",
    "train_auc = metrics.roc_auc_score(y_train, y_train_pred)\n",
    "print(\"train auc: \", train_auc)\n",
    "test_auc = metrics.roc_auc_score(y_test, y_test_pred)\n",
    "print(\"test auc: \", test_auc)"
   ]
  },
  {
   "cell_type": "code",
   "execution_count": 11,
   "metadata": {},
   "outputs": [],
   "source": [
    "y_test_pred_prob = clf_xgb.predict_proba(X_t)[:, 1]\n",
    "pd.DataFrame(y_test_pred_prob).to_csv(\"xgb_test_po2008.csv\")"
   ]
  },
  {
   "cell_type": "code",
   "execution_count": 16,
   "metadata": {},
   "outputs": [
    {
     "name": "stdout",
     "output_type": "stream",
     "text": [
      "train auc:  0.8542491663166532\n",
      "test auc:  0.7895405568612743\n"
     ]
    }
   ],
   "source": [
    "test_size = 0.3\n",
    "X_train, X_test, y_train, y_test = model_selection.train_test_split(X, Y, test_size=test_size, random_state=10)\n",
    "clf_xgb = XGBClassifier(max_depth=8, gamma=0.3, subsample=0.8, min_child_weight=2, n_estimators=50, objective='binary:logistic', scale_pos_weight=0.33) \n",
    "clf_xgb.fit(X_train, y_train)\n",
    "y_train_pred = clf_xgb.predict_proba(X_train)[:, 1]\n",
    "y_test_pred = clf_xgb.predict_proba(X_test)[:, 1]\n",
    "\n",
    "train_auc = metrics.roc_auc_score(y_train, y_train_pred)\n",
    "print(\"train auc: \", train_auc)\n",
    "test_auc = metrics.roc_auc_score(y_test, y_test_pred)\n",
    "print(\"test auc: \", test_auc)"
   ]
  },
  {
   "cell_type": "code",
   "execution_count": 15,
   "metadata": {},
   "outputs": [],
   "source": [
    "y_test_pred_prob = clf_xgb.predict_proba(X_t)[:, 1]\n",
    "pd.DataFrame(y_test_pred_prob).to_csv(\"xgb_test_po2_2008.csv\")"
   ]
  },
  {
   "cell_type": "code",
   "execution_count": 33,
   "metadata": {},
   "outputs": [
    {
     "name": "stdout",
     "output_type": "stream",
     "text": [
      "train auc:  0.9841290027468171\n",
      "test auc:  0.7895549181000657\n"
     ]
    }
   ],
   "source": [
    "test_size = 0.3\n",
    "X_train, X_test, y_train, y_test = model_selection.train_test_split(X, Y, test_size=test_size, random_state=10)\n",
    "clf_xgb = XGBClassifier(max_depth=9, gamma=0.2, subsample=0.8, min_child_weight=2, n_estimators=250, objective='binary:logistic', eta=0.05) \n",
    "clf_xgb.fit(X_train, y_train)\n",
    "y_train_pred = clf_xgb.predict_proba(X_train)[:, 1]\n",
    "y_test_pred = clf_xgb.predict_proba(X_test)[:, 1]\n",
    "\n",
    "train_auc = metrics.roc_auc_score(y_train, y_train_pred)\n",
    "print(\"train auc: \", train_auc)\n",
    "test_auc = metrics.roc_auc_score(y_test, y_test_pred)\n",
    "print(\"test auc: \", test_auc)"
   ]
  },
  {
   "cell_type": "code",
   "execution_count": 6,
   "metadata": {},
   "outputs": [
    {
     "name": "stdout",
     "output_type": "stream",
     "text": [
      "train auc:  0.9726203389790439\n"
     ]
    }
   ],
   "source": [
    "#test_size = 0.3\n",
    "#X_train, X_test, y_train, y_test = model_selection.train_test_split(X, Y, test_size=test_size, random_state=10)\n",
    "clf_xgb = XGBClassifier(max_depth=9, gamma=0.2, subsample=0.8, min_child_weight=2, n_estimators=250, objective='binary:logistic', eta=0.05) \n",
    "clf_xgb.fit(X, Y)\n",
    "y_train_pred = clf_xgb.predict_proba(X)[:, 1]\n",
    "train_auc = metrics.roc_auc_score(Y, y_train_pred)\n",
    "print(\"train auc: \", train_auc)"
   ]
  },
  {
   "cell_type": "code",
   "execution_count": 8,
   "metadata": {},
   "outputs": [],
   "source": [
    "y_test_pred_prob = clf_xgb.predict_proba(X_t)[:, 1]\n",
    "pd.DataFrame(y_test_pred_prob).to_csv(\"xgb_test_po3_2008.csv\")\n",
    "#test_auc = metrics.roc_auc_score(Y, y_train_pred)\n",
    "#print(\"test auc: \", test_auc)"
   ]
  },
  {
   "cell_type": "code",
   "execution_count": null,
   "metadata": {},
   "outputs": [],
   "source": []
  }
 ],
 "metadata": {
  "kernelspec": {
   "display_name": "Python 3",
   "language": "python",
   "name": "python3"
  },
  "language_info": {
   "codemirror_mode": {
    "name": "ipython",
    "version": 3
   },
   "file_extension": ".py",
   "mimetype": "text/x-python",
   "name": "python",
   "nbconvert_exporter": "python",
   "pygments_lexer": "ipython3",
   "version": "3.6.8"
  }
 },
 "nbformat": 4,
 "nbformat_minor": 2
}
